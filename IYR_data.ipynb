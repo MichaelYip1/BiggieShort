{
 "cells": [
  {
   "cell_type": "markdown",
   "id": "e0f46a81",
   "metadata": {},
   "source": [
    "### ALPACA IYR TICKER DATA "
   ]
  },
  {
   "cell_type": "code",
   "execution_count": 5,
   "id": "c9286ee3",
   "metadata": {
    "tags": []
   },
   "outputs": [],
   "source": [
    "# Initial imports\n",
    "import os\n",
    "import requests\n",
    "import pandas as pd\n",
    "from dotenv import load_dotenv\n",
    "import alpaca_trade_api as tradeapi\n",
    "#from MCForecastTools import MCSimulation\n",
    "\n",
    "%matplotlib inline\n",
    "import json"
   ]
  },
  {
   "cell_type": "code",
   "execution_count": 6,
   "id": "89f208fc",
   "metadata": {},
   "outputs": [
    {
     "data": {
      "text/plain": [
       "True"
      ]
     },
     "execution_count": 6,
     "metadata": {},
     "output_type": "execute_result"
    }
   ],
   "source": [
    "# Load .env enviroment variables\n",
    "load_dotenv()"
   ]
  },
  {
   "cell_type": "code",
   "execution_count": 7,
   "id": "dcb506e2",
   "metadata": {},
   "outputs": [],
   "source": [
    "# Set Alpaca API key and secret\n",
    "alpaca_api_key = os.getenv(\"ALPACA_API_KEY\")\n",
    "alpaca_secret_key = os.getenv(\"ALPACA_SECRET_KEY\")\n",
    "\n",
    "#Create the Alpaca API object\n",
    "api = tradeapi.REST(\n",
    "    alpaca_api_key,\n",
    "    alpaca_secret_key,\n",
    "    api_version = \"v2\"\n",
    ")"
   ]
  },
  {
   "cell_type": "code",
   "execution_count": 27,
   "id": "692c319c",
   "metadata": {},
   "outputs": [
    {
     "data": {
      "text/html": [
       "<div>\n",
       "<style scoped>\n",
       "    .dataframe tbody tr th:only-of-type {\n",
       "        vertical-align: middle;\n",
       "    }\n",
       "\n",
       "    .dataframe tbody tr th {\n",
       "        vertical-align: top;\n",
       "    }\n",
       "\n",
       "    .dataframe thead tr th {\n",
       "        text-align: left;\n",
       "    }\n",
       "</style>\n",
       "<table border=\"1\" class=\"dataframe\">\n",
       "  <thead>\n",
       "    <tr>\n",
       "      <th></th>\n",
       "      <th colspan=\"5\" halign=\"left\">IYR</th>\n",
       "    </tr>\n",
       "    <tr>\n",
       "      <th></th>\n",
       "      <th>open</th>\n",
       "      <th>high</th>\n",
       "      <th>low</th>\n",
       "      <th>close</th>\n",
       "      <th>volume</th>\n",
       "    </tr>\n",
       "  </thead>\n",
       "  <tbody>\n",
       "    <tr>\n",
       "      <th>count</th>\n",
       "      <td>590.000000</td>\n",
       "      <td>590.000000</td>\n",
       "      <td>590.000000</td>\n",
       "      <td>590.000000</td>\n",
       "      <td>5.900000e+02</td>\n",
       "    </tr>\n",
       "    <tr>\n",
       "      <th>mean</th>\n",
       "      <td>46.956186</td>\n",
       "      <td>47.861769</td>\n",
       "      <td>46.025684</td>\n",
       "      <td>47.004441</td>\n",
       "      <td>2.122173e+07</td>\n",
       "    </tr>\n",
       "    <tr>\n",
       "      <th>std</th>\n",
       "      <td>13.854113</td>\n",
       "      <td>13.882610</td>\n",
       "      <td>13.816797</td>\n",
       "      <td>13.819262</td>\n",
       "      <td>1.434657e+07</td>\n",
       "    </tr>\n",
       "    <tr>\n",
       "      <th>min</th>\n",
       "      <td>21.520000</td>\n",
       "      <td>22.730000</td>\n",
       "      <td>20.980000</td>\n",
       "      <td>22.270000</td>\n",
       "      <td>3.162695e+06</td>\n",
       "    </tr>\n",
       "    <tr>\n",
       "      <th>25%</th>\n",
       "      <td>34.635000</td>\n",
       "      <td>35.320000</td>\n",
       "      <td>33.505000</td>\n",
       "      <td>34.597500</td>\n",
       "      <td>1.051055e+07</td>\n",
       "    </tr>\n",
       "    <tr>\n",
       "      <th>50%</th>\n",
       "      <td>44.205000</td>\n",
       "      <td>44.865000</td>\n",
       "      <td>43.660000</td>\n",
       "      <td>44.215000</td>\n",
       "      <td>1.740628e+07</td>\n",
       "    </tr>\n",
       "    <tr>\n",
       "      <th>75%</th>\n",
       "      <td>61.507500</td>\n",
       "      <td>62.545000</td>\n",
       "      <td>60.360000</td>\n",
       "      <td>61.547500</td>\n",
       "      <td>2.839110e+07</td>\n",
       "    </tr>\n",
       "    <tr>\n",
       "      <th>max</th>\n",
       "      <td>71.660000</td>\n",
       "      <td>77.480000</td>\n",
       "      <td>70.790000</td>\n",
       "      <td>71.560000</td>\n",
       "      <td>8.903000e+07</td>\n",
       "    </tr>\n",
       "  </tbody>\n",
       "</table>\n",
       "</div>"
      ],
      "text/plain": [
       "              IYR                                                  \n",
       "             open        high         low       close        volume\n",
       "count  590.000000  590.000000  590.000000  590.000000  5.900000e+02\n",
       "mean    46.956186   47.861769   46.025684   47.004441  2.122173e+07\n",
       "std     13.854113   13.882610   13.816797   13.819262  1.434657e+07\n",
       "min     21.520000   22.730000   20.980000   22.270000  3.162695e+06\n",
       "25%     34.635000   35.320000   33.505000   34.597500  1.051055e+07\n",
       "50%     44.205000   44.865000   43.660000   44.215000  1.740628e+07\n",
       "75%     61.507500   62.545000   60.360000   61.547500  2.839110e+07\n",
       "max     71.660000   77.480000   70.790000   71.560000  8.903000e+07"
      ]
     },
     "execution_count": 27,
     "metadata": {},
     "output_type": "execute_result"
    }
   ],
   "source": [
    "# Format current date as ISO format\n",
    "start_date = pd.Timestamp(\"2012-26-06\", tz=\"America/New_York\").isoformat()\n",
    "end_date = pd.Timestamp(\"2021-26-06\", tz=\"America/New_York\").isoformat()\n",
    "\n",
    "# Set the tickers\n",
    "tickers = [\"IYR\"]\n",
    "\n",
    "# Set timeframe to '1D' for Alpaca API\n",
    "timeframe = \"1D\"\n",
    "\n",
    "# Get current closing prices for IYR\n",
    "df = api.get_barset(\n",
    "    tickers,\n",
    "    timeframe,\n",
    "    start=start_date,\n",
    "    end=end_date,\n",
    "    limit=1000,\n",
    ").df\n",
    "\n",
    "# Preview DataFrame\n",
    "df.describe()"
   ]
  },
  {
   "cell_type": "code",
   "execution_count": null,
   "id": "4482a5d4",
   "metadata": {},
   "outputs": [],
   "source": []
  }
 ],
 "metadata": {
  "kernelspec": {
   "display_name": "Python 3",
   "language": "python",
   "name": "python3"
  },
  "language_info": {
   "codemirror_mode": {
    "name": "ipython",
    "version": 3
   },
   "file_extension": ".py",
   "mimetype": "text/x-python",
   "name": "python",
   "nbconvert_exporter": "python",
   "pygments_lexer": "ipython3",
   "version": "3.9.2"
  }
 },
 "nbformat": 4,
 "nbformat_minor": 5
}
