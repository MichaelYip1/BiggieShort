{
 "cells": [
  {
   "cell_type": "markdown",
   "id": "4cd2c6de",
   "metadata": {},
   "source": [
    "### Load IYR Data"
   ]
  },
  {
   "cell_type": "code",
   "execution_count": 1,
   "id": "7c03f557",
   "metadata": {
    "tags": []
   },
   "outputs": [],
   "source": [
    "# Initial Imports\n",
    "import os\n",
    "import requests\n",
    "import pandas as pd\n",
    "from dotenv import load_dotenv\n",
    "import alpaca_trade_api as tradeapi\n",
    "%matplotlib inline\n",
    "import json\n",
    "import datetime as dt\n",
    "from fredapi import Fred\n",
    "import yfinance as yf\n",
    "import pandas as pd"
   ]
  },
  {
   "cell_type": "code",
   "execution_count": 2,
   "id": "849d4db8",
   "metadata": {},
   "outputs": [
    {
     "data": {
      "text/plain": [
       "True"
      ]
     },
     "execution_count": 2,
     "metadata": {},
     "output_type": "execute_result"
    }
   ],
   "source": [
    "# Load .env enviroment variables\n",
    "load_dotenv()"
   ]
  },
  {
   "cell_type": "code",
   "execution_count": 5,
   "id": "91317fe3",
   "metadata": {},
   "outputs": [],
   "source": [
    "# Set Fred API Key via \n",
    "fred_api = os.getenv('fred_api_key')\n",
    "fred = Fred(api_key=fred_api)"
   ]
  },
  {
   "cell_type": "code",
   "execution_count": 6,
   "id": "58f4918d",
   "metadata": {},
   "outputs": [],
   "source": [
    "#df_CS = {}\n",
    "CSI_data = fred.get_series('CSUSHPINSA')"
   ]
  },
  {
   "cell_type": "code",
   "execution_count": 7,
   "id": "0f851751",
   "metadata": {},
   "outputs": [
    {
     "data": {
      "text/html": [
       "<div>\n",
       "<style scoped>\n",
       "    .dataframe tbody tr th:only-of-type {\n",
       "        vertical-align: middle;\n",
       "    }\n",
       "\n",
       "    .dataframe tbody tr th {\n",
       "        vertical-align: top;\n",
       "    }\n",
       "\n",
       "    .dataframe thead th {\n",
       "        text-align: right;\n",
       "    }\n",
       "</style>\n",
       "<table border=\"1\" class=\"dataframe\">\n",
       "  <thead>\n",
       "    <tr style=\"text-align: right;\">\n",
       "      <th></th>\n",
       "      <th>Case-Shiller U.S. National Home Price Index</th>\n",
       "    </tr>\n",
       "  </thead>\n",
       "  <tbody>\n",
       "    <tr>\n",
       "      <th>1987-01-31</th>\n",
       "      <td>63.737</td>\n",
       "    </tr>\n",
       "    <tr>\n",
       "      <th>1987-02-28</th>\n",
       "      <td>64.137</td>\n",
       "    </tr>\n",
       "    <tr>\n",
       "      <th>1987-03-31</th>\n",
       "      <td>64.472</td>\n",
       "    </tr>\n",
       "    <tr>\n",
       "      <th>1987-04-30</th>\n",
       "      <td>64.977</td>\n",
       "    </tr>\n",
       "    <tr>\n",
       "      <th>1987-05-31</th>\n",
       "      <td>65.552</td>\n",
       "    </tr>\n",
       "  </tbody>\n",
       "</table>\n",
       "</div>"
      ],
      "text/plain": [
       "            Case-Shiller U.S. National Home Price Index\n",
       "1987-01-31                                       63.737\n",
       "1987-02-28                                       64.137\n",
       "1987-03-31                                       64.472\n",
       "1987-04-30                                       64.977\n",
       "1987-05-31                                       65.552"
      ]
     },
     "execution_count": 7,
     "metadata": {},
     "output_type": "execute_result"
    }
   ],
   "source": [
    "df_CS = pd.DataFrame(CSI_data, index=CSI_data.index)\n",
    "df_CS.index = pd.to_datetime(df_CS.index)\n",
    "df_CS.columns =['Case-Shiller U.S. National Home Price Index']\n",
    "df_CS = df_CS.dropna()\n",
    "df_CS = df_CS.resample('M').mean()\n",
    "df_CS.head()"
   ]
  },
  {
   "cell_type": "code",
   "execution_count": 17,
   "id": "09b3a529",
   "metadata": {},
   "outputs": [],
   "source": [
    "# Export to CSV for Modelling\n",
    "df_CS.to_csv('CS.csv')"
   ]
  },
  {
   "cell_type": "code",
   "execution_count": 11,
   "id": "f5d93c26",
   "metadata": {},
   "outputs": [
    {
     "name": "stdout",
     "output_type": "stream",
     "text": [
      "[*********************100%***********************]  1 of 1 completed\n"
     ]
    }
   ],
   "source": [
    "today = pd.to_datetime(\"today\").strftime(\"%Y-%m-%d\")\n",
    "data = yf.download(\"IYR\", start=\"2000-01-01\", end=today)\n",
    "data = data['Close'].dropna()\n",
    "data = pd.DataFrame(data, index=data.index)\n",
    "data = data.resample('M').mean()\n",
    "df2 = pd.concat([data,df_CS],join='inner',axis=1)"
   ]
  },
  {
   "cell_type": "code",
   "execution_count": 16,
   "id": "0c3cf117",
   "metadata": {},
   "outputs": [
    {
     "data": {
      "text/html": [
       "<div>\n",
       "<style scoped>\n",
       "    .dataframe tbody tr th:only-of-type {\n",
       "        vertical-align: middle;\n",
       "    }\n",
       "\n",
       "    .dataframe tbody tr th {\n",
       "        vertical-align: top;\n",
       "    }\n",
       "\n",
       "    .dataframe thead th {\n",
       "        text-align: right;\n",
       "    }\n",
       "</style>\n",
       "<table border=\"1\" class=\"dataframe\">\n",
       "  <thead>\n",
       "    <tr style=\"text-align: right;\">\n",
       "      <th></th>\n",
       "      <th>IYR close</th>\n",
       "      <th>Case Schiller</th>\n",
       "    </tr>\n",
       "  </thead>\n",
       "  <tbody>\n",
       "    <tr>\n",
       "      <th>2000-06-30</th>\n",
       "      <td>35.255208</td>\n",
       "      <td>104.855</td>\n",
       "    </tr>\n",
       "    <tr>\n",
       "      <th>2000-07-31</th>\n",
       "      <td>36.371094</td>\n",
       "      <td>105.721</td>\n",
       "    </tr>\n",
       "    <tr>\n",
       "      <th>2000-08-31</th>\n",
       "      <td>37.274457</td>\n",
       "      <td>106.521</td>\n",
       "    </tr>\n",
       "    <tr>\n",
       "      <th>2000-09-30</th>\n",
       "      <td>37.550781</td>\n",
       "      <td>107.134</td>\n",
       "    </tr>\n",
       "    <tr>\n",
       "      <th>2000-10-31</th>\n",
       "      <td>35.844318</td>\n",
       "      <td>107.727</td>\n",
       "    </tr>\n",
       "    <tr>\n",
       "      <th>...</th>\n",
       "      <td>...</td>\n",
       "      <td>...</td>\n",
       "    </tr>\n",
       "    <tr>\n",
       "      <th>2020-12-31</th>\n",
       "      <td>84.622273</td>\n",
       "      <td>234.472</td>\n",
       "    </tr>\n",
       "    <tr>\n",
       "      <th>2021-01-31</th>\n",
       "      <td>84.403685</td>\n",
       "      <td>236.441</td>\n",
       "    </tr>\n",
       "    <tr>\n",
       "      <th>2021-02-28</th>\n",
       "      <td>88.644210</td>\n",
       "      <td>239.192</td>\n",
       "    </tr>\n",
       "    <tr>\n",
       "      <th>2021-03-31</th>\n",
       "      <td>89.776087</td>\n",
       "      <td>243.949</td>\n",
       "    </tr>\n",
       "    <tr>\n",
       "      <th>2021-04-30</th>\n",
       "      <td>96.233809</td>\n",
       "      <td>249.040</td>\n",
       "    </tr>\n",
       "  </tbody>\n",
       "</table>\n",
       "<p>251 rows × 2 columns</p>\n",
       "</div>"
      ],
      "text/plain": [
       "            IYR close  Case Schiller\n",
       "2000-06-30  35.255208        104.855\n",
       "2000-07-31  36.371094        105.721\n",
       "2000-08-31  37.274457        106.521\n",
       "2000-09-30  37.550781        107.134\n",
       "2000-10-31  35.844318        107.727\n",
       "...               ...            ...\n",
       "2020-12-31  84.622273        234.472\n",
       "2021-01-31  84.403685        236.441\n",
       "2021-02-28  88.644210        239.192\n",
       "2021-03-31  89.776087        243.949\n",
       "2021-04-30  96.233809        249.040\n",
       "\n",
       "[251 rows x 2 columns]"
      ]
     },
     "execution_count": 16,
     "metadata": {},
     "output_type": "execute_result"
    }
   ],
   "source": [
    "df2.columns = [\"IYR close\", \"Case Schiller\"]\n",
    "\n",
    "df2"
   ]
  },
  {
   "cell_type": "code",
   "execution_count": 15,
   "id": "81d06d4c",
   "metadata": {},
   "outputs": [
    {
     "name": "stdout",
     "output_type": "stream",
     "text": [
      "correlation is                IYR close  Case Schiller\n",
      "IYR close       1.000000       0.862951\n",
      "Case Schiller   0.862951       1.000000\n"
     ]
    }
   ],
   "source": [
    "correlation = df2.corr()\n",
    "print(f\"correlation is {correlation}\")"
   ]
  },
  {
   "cell_type": "code",
   "execution_count": null,
   "id": "86630331",
   "metadata": {},
   "outputs": [],
   "source": []
  }
 ],
 "metadata": {
  "kernelspec": {
   "display_name": "Python [conda env:algotrading] *",
   "language": "python",
   "name": "conda-env-algotrading-py"
  },
  "language_info": {
   "codemirror_mode": {
    "name": "ipython",
    "version": 3
   },
   "file_extension": ".py",
   "mimetype": "text/x-python",
   "name": "python",
   "nbconvert_exporter": "python",
   "pygments_lexer": "ipython3",
   "version": "3.7.10"
  }
 },
 "nbformat": 4,
 "nbformat_minor": 5
}
