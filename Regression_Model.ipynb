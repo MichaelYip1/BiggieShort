{
 "cells": [
  {
   "cell_type": "markdown",
   "metadata": {
    "tags": []
   },
   "source": [
    "## Regression Model "
   ]
  },
  {
   "cell_type": "markdown",
   "metadata": {},
   "source": [
    "### Using Features as the X variable"
   ]
  },
  {
   "cell_type": "code",
   "execution_count": 10,
   "metadata": {},
   "outputs": [],
   "source": [
    "# Imports\n",
    "from sklearn.linear_model import LinearRegression\n",
    "import pandas as pd\n",
    "import hvplot.pandas\n",
    "import matplotlib.pyplot as plt\n",
    "from sklearn.model_selection import train_test_split\n"
   ]
  },
  {
   "cell_type": "code",
   "execution_count": 24,
   "metadata": {},
   "outputs": [
    {
     "data": {
      "text/plain": [
       "(137, 1)"
      ]
     },
     "execution_count": 24,
     "metadata": {},
     "output_type": "execute_result"
    }
   ],
   "source": [
    "# Load CS data & reshape to quarterly \n",
    "CS = pd.read_csv('CS.csv',index_col=0, parse_dates=True, infer_datetime_format=True)\n",
    "CS = CS.resample('Q').last()\n",
    "CS = CS.iloc[:-1]\n",
    "CS.shape"
   ]
  },
  {
   "cell_type": "code",
   "execution_count": 19,
   "metadata": {},
   "outputs": [
    {
     "data": {
      "text/plain": [
       "<AxesSubplot:>"
      ]
     },
     "execution_count": 19,
     "metadata": {},
     "output_type": "execute_result"
    },
    {
     "data": {
      "image/png": "[encoded data removed]",
      "text/plain": [
       "<Figure size 432x288 with 1 Axes>"
      ]
     },
     "metadata": {
      "needs_background": "light"
     },
     "output_type": "display_data"
    }
   ],
   "source": [
    "# Check to see if data is non-stationary\n",
    "# CS['pct_change'] = CS['Case-Shiller U.S. National Home Price Index'].pct_change() *100\n",
    "# CS['pct_change'].plot()"
   ]
  },
  {
   "cell_type": "markdown",
   "metadata": {},
   "source": [
    "Conclusion - non stationary"
   ]
  },
  {
   "cell_type": "code",
   "execution_count": 20,
   "metadata": {},
   "outputs": [
    {
     "data": {
      "text/plain": [
       "(137, 9)"
      ]
     },
     "execution_count": 20,
     "metadata": {},
     "output_type": "execute_result"
    }
   ],
   "source": [
    "# Load features in DF\n",
    "feat = pd.read_csv('features.csv',index_col=0, parse_dates=True, infer_datetime_format=True)\n",
    "feat = feat.loc[CS.index[0]:CS.index[-1]]\n",
    "feat.shape"
   ]
  },
  {
   "cell_type": "code",
   "execution_count": 25,
   "metadata": {},
   "outputs": [],
   "source": [
    "# Create features (X) and target (y) by taking the pct_change to predict pct_change of CS value \n",
    "X = feat.diff().dropna()\n",
    "y = CS.diff().dropna()"
   ]
  },
  {
   "cell_type": "code",
   "execution_count": 27,
   "metadata": {},
   "outputs": [
    {
     "data": {
      "text/plain": [
       "(136, 1)"
      ]
     },
     "execution_count": 27,
     "metadata": {},
     "output_type": "execute_result"
    }
   ],
   "source": [
    "y.shape"
   ]
  },
  {
   "cell_type": "code",
   "execution_count": 28,
   "metadata": {},
   "outputs": [
    {
     "data": {
      "text/plain": [
       "(136, 9)"
      ]
     },
     "execution_count": 28,
     "metadata": {},
     "output_type": "execute_result"
    }
   ],
   "source": [
    "X.shape"
   ]
  },
  {
   "cell_type": "code",
   "execution_count": 29,
   "metadata": {},
   "outputs": [
    {
     "data": {
      "text/html": [
       "<div>\n",
       "<style scoped>\n",
       "    .dataframe tbody tr th:only-of-type {\n",
       "        vertical-align: middle;\n",
       "    }\n",
       "\n",
       "    .dataframe tbody tr th {\n",
       "        vertical-align: top;\n",
       "    }\n",
       "\n",
       "    .dataframe thead th {\n",
       "        text-align: right;\n",
       "    }\n",
       "</style>\n",
       "<table border=\"1\" class=\"dataframe\">\n",
       "  <thead>\n",
       "    <tr style=\"text-align: right;\">\n",
       "      <th></th>\n",
       "      <th>Homeownership Rate in the United States</th>\n",
       "      <th>Monthly Supply of Houses in the United States</th>\n",
       "      <th>US Population data</th>\n",
       "      <th>Median Sales Price of Houses Sold</th>\n",
       "      <th>GDP</th>\n",
       "      <th>Natural Rate of Unemployment</th>\n",
       "      <th>Consumer Price Index</th>\n",
       "      <th>House Price Index</th>\n",
       "      <th>10-Year Treasury</th>\n",
       "    </tr>\n",
       "  </thead>\n",
       "  <tbody>\n",
       "    <tr>\n",
       "      <th>Homeownership Rate in the United States</th>\n",
       "      <td>1.000000</td>\n",
       "      <td>0.038346</td>\n",
       "      <td>0.120750</td>\n",
       "      <td>-0.172551</td>\n",
       "      <td>-0.520118</td>\n",
       "      <td>-0.000201</td>\n",
       "      <td>-0.245617</td>\n",
       "      <td>0.045587</td>\n",
       "      <td>0.016075</td>\n",
       "    </tr>\n",
       "    <tr>\n",
       "      <th>Monthly Supply of Houses in the United States</th>\n",
       "      <td>0.038346</td>\n",
       "      <td>1.000000</td>\n",
       "      <td>0.021081</td>\n",
       "      <td>-0.085167</td>\n",
       "      <td>-0.117489</td>\n",
       "      <td>-0.117290</td>\n",
       "      <td>-0.038624</td>\n",
       "      <td>0.129442</td>\n",
       "      <td>-0.079657</td>\n",
       "    </tr>\n",
       "    <tr>\n",
       "      <th>US Population data</th>\n",
       "      <td>0.120750</td>\n",
       "      <td>0.021081</td>\n",
       "      <td>1.000000</td>\n",
       "      <td>-0.052665</td>\n",
       "      <td>-0.056378</td>\n",
       "      <td>0.119806</td>\n",
       "      <td>0.003493</td>\n",
       "      <td>-0.246208</td>\n",
       "      <td>0.060583</td>\n",
       "    </tr>\n",
       "    <tr>\n",
       "      <th>Median Sales Price of Houses Sold</th>\n",
       "      <td>-0.172551</td>\n",
       "      <td>-0.085167</td>\n",
       "      <td>-0.052665</td>\n",
       "      <td>1.000000</td>\n",
       "      <td>0.216207</td>\n",
       "      <td>-0.183064</td>\n",
       "      <td>0.025643</td>\n",
       "      <td>0.117552</td>\n",
       "      <td>-0.102720</td>\n",
       "    </tr>\n",
       "    <tr>\n",
       "      <th>GDP</th>\n",
       "      <td>-0.520118</td>\n",
       "      <td>-0.117489</td>\n",
       "      <td>-0.056378</td>\n",
       "      <td>0.216207</td>\n",
       "      <td>1.000000</td>\n",
       "      <td>-0.098165</td>\n",
       "      <td>0.502399</td>\n",
       "      <td>0.186926</td>\n",
       "      <td>-0.130822</td>\n",
       "    </tr>\n",
       "    <tr>\n",
       "      <th>Natural Rate of Unemployment</th>\n",
       "      <td>-0.000201</td>\n",
       "      <td>-0.117290</td>\n",
       "      <td>0.119806</td>\n",
       "      <td>-0.183064</td>\n",
       "      <td>-0.098165</td>\n",
       "      <td>1.000000</td>\n",
       "      <td>-0.207737</td>\n",
       "      <td>-0.410712</td>\n",
       "      <td>0.055739</td>\n",
       "    </tr>\n",
       "    <tr>\n",
       "      <th>Consumer Price Index</th>\n",
       "      <td>-0.245617</td>\n",
       "      <td>-0.038624</td>\n",
       "      <td>0.003493</td>\n",
       "      <td>0.025643</td>\n",
       "      <td>0.502399</td>\n",
       "      <td>-0.207737</td>\n",
       "      <td>1.000000</td>\n",
       "      <td>0.071098</td>\n",
       "      <td>0.042374</td>\n",
       "    </tr>\n",
       "    <tr>\n",
       "      <th>House Price Index</th>\n",
       "      <td>0.045587</td>\n",
       "      <td>0.129442</td>\n",
       "      <td>-0.246208</td>\n",
       "      <td>0.117552</td>\n",
       "      <td>0.186926</td>\n",
       "      <td>-0.410712</td>\n",
       "      <td>0.071098</td>\n",
       "      <td>1.000000</td>\n",
       "      <td>-0.228545</td>\n",
       "    </tr>\n",
       "    <tr>\n",
       "      <th>10-Year Treasury</th>\n",
       "      <td>0.016075</td>\n",
       "      <td>-0.079657</td>\n",
       "      <td>0.060583</td>\n",
       "      <td>-0.102720</td>\n",
       "      <td>-0.130822</td>\n",
       "      <td>0.055739</td>\n",
       "      <td>0.042374</td>\n",
       "      <td>-0.228545</td>\n",
       "      <td>1.000000</td>\n",
       "    </tr>\n",
       "  </tbody>\n",
       "</table>\n",
       "</div>"
      ],
      "text/plain": [
       "                                               Homeownership Rate in the United States  \\\n",
       "Homeownership Rate in the United States                                       1.000000   \n",
       "Monthly Supply of Houses in the United States                                 0.038346   \n",
       "US Population data                                                            0.120750   \n",
       "Median Sales Price of Houses Sold                                            -0.172551   \n",
       "GDP                                                                          -0.520118   \n",
       "Natural Rate of Unemployment                                                 -0.000201   \n",
       "Consumer Price Index                                                         -0.245617   \n",
       "House Price Index                                                             0.045587   \n",
       "10-Year Treasury                                                              0.016075   \n",
       "\n",
       "                                               Monthly Supply of Houses in the United States  \\\n",
       "Homeownership Rate in the United States                                             0.038346   \n",
       "Monthly Supply of Houses in the United States                                       1.000000   \n",
       "US Population data                                                                  0.021081   \n",
       "Median Sales Price of Houses Sold                                                  -0.085167   \n",
       "GDP                                                                                -0.117489   \n",
       "Natural Rate of Unemployment                                                       -0.117290   \n",
       "Consumer Price Index                                                               -0.038624   \n",
       "House Price Index                                                                   0.129442   \n",
       "10-Year Treasury                                                                   -0.079657   \n",
       "\n",
       "                                               US Population data  \\\n",
       "Homeownership Rate in the United States                  0.120750   \n",
       "Monthly Supply of Houses in the United States            0.021081   \n",
       "US Population data                                       1.000000   \n",
       "Median Sales Price of Houses Sold                       -0.052665   \n",
       "GDP                                                     -0.056378   \n",
       "Natural Rate of Unemployment                             0.119806   \n",
       "Consumer Price Index                                     0.003493   \n",
       "House Price Index                                       -0.246208   \n",
       "10-Year Treasury                                         0.060583   \n",
       "\n",
       "                                               Median Sales Price of Houses Sold  \\\n",
       "Homeownership Rate in the United States                                -0.172551   \n",
       "Monthly Supply of Houses in the United States                          -0.085167   \n",
       "US Population data                                                     -0.052665   \n",
       "Median Sales Price of Houses Sold                                       1.000000   \n",
       "GDP                                                                     0.216207   \n",
       "Natural Rate of Unemployment                                           -0.183064   \n",
       "Consumer Price Index                                                    0.025643   \n",
       "House Price Index                                                       0.117552   \n",
       "10-Year Treasury                                                       -0.102720   \n",
       "\n",
       "                                                    GDP  \\\n",
       "Homeownership Rate in the United States       -0.520118   \n",
       "Monthly Supply of Houses in the United States -0.117489   \n",
       "US Population data                            -0.056378   \n",
       "Median Sales Price of Houses Sold              0.216207   \n",
       "GDP                                            1.000000   \n",
       "Natural Rate of Unemployment                  -0.098165   \n",
       "Consumer Price Index                           0.502399   \n",
       "House Price Index                              0.186926   \n",
       "10-Year Treasury                              -0.130822   \n",
       "\n",
       "                                               Natural Rate of Unemployment  \\\n",
       "Homeownership Rate in the United States                           -0.000201   \n",
       "Monthly Supply of Houses in the United States                     -0.117290   \n",
       "US Population data                                                 0.119806   \n",
       "Median Sales Price of Houses Sold                                 -0.183064   \n",
       "GDP                                                               -0.098165   \n",
       "Natural Rate of Unemployment                                       1.000000   \n",
       "Consumer Price Index                                              -0.207737   \n",
       "House Price Index                                                 -0.410712   \n",
       "10-Year Treasury                                                   0.055739   \n",
       "\n",
       "                                               Consumer Price Index  \\\n",
       "Homeownership Rate in the United States                   -0.245617   \n",
       "Monthly Supply of Houses in the United States             -0.038624   \n",
       "US Population data                                         0.003493   \n",
       "Median Sales Price of Houses Sold                          0.025643   \n",
       "GDP                                                        0.502399   \n",
       "Natural Rate of Unemployment                              -0.207737   \n",
       "Consumer Price Index                                       1.000000   \n",
       "House Price Index                                          0.071098   \n",
       "10-Year Treasury                                           0.042374   \n",
       "\n",
       "                                               House Price Index  \\\n",
       "Homeownership Rate in the United States                 0.045587   \n",
       "Monthly Supply of Houses in the United States           0.129442   \n",
       "US Population data                                     -0.246208   \n",
       "Median Sales Price of Houses Sold                       0.117552   \n",
       "GDP                                                     0.186926   \n",
       "Natural Rate of Unemployment                           -0.410712   \n",
       "Consumer Price Index                                    0.071098   \n",
       "House Price Index                                       1.000000   \n",
       "10-Year Treasury                                       -0.228545   \n",
       "\n",
       "                                               10-Year Treasury  \n",
       "Homeownership Rate in the United States                0.016075  \n",
       "Monthly Supply of Houses in the United States         -0.079657  \n",
       "US Population data                                     0.060583  \n",
       "Median Sales Price of Houses Sold                     -0.102720  \n",
       "GDP                                                   -0.130822  \n",
       "Natural Rate of Unemployment                           0.055739  \n",
       "Consumer Price Index                                   0.042374  \n",
       "House Price Index                                     -0.228545  \n",
       "10-Year Treasury                                       1.000000  "
      ]
     },
     "execution_count": 29,
     "metadata": {},
     "output_type": "execute_result"
    }
   ],
   "source": [
    "X.head()\n",
    "\n",
    "### Correlation between features\n",
    "X.corr()"
   ]
  },
  {
   "cell_type": "markdown",
   "metadata": {},
   "source": [
    "Good to observe low correlation between the features."
   ]
  },
  {
   "cell_type": "code",
   "execution_count": 30,
   "metadata": {
    "tags": []
   },
   "outputs": [
    {
     "data": {
      "text/plain": [
       "(136, 1)"
      ]
     },
     "execution_count": 30,
     "metadata": {},
     "output_type": "execute_result"
    }
   ],
   "source": [
    "y.shape"
   ]
  },
  {
   "cell_type": "code",
   "execution_count": 31,
   "metadata": {},
   "outputs": [
    {
     "data": {
      "text/plain": [
       "LinearRegression()"
      ]
     },
     "execution_count": 31,
     "metadata": {},
     "output_type": "execute_result"
    }
   ],
   "source": [
    "# Create Linear Regression model\n",
    "model = LinearRegression()\n",
    "\n",
    "model.fit(X, y)"
   ]
  },
  {
   "cell_type": "code",
   "execution_count": 32,
   "metadata": {},
   "outputs": [],
   "source": [
    "predicted_y_values = model.predict(X)"
   ]
  },
  {
   "cell_type": "code",
   "execution_count": 33,
   "metadata": {},
   "outputs": [],
   "source": [
    "# Importing to save plots for Readme\n",
    "import matplotlib.pyplot as plt"
   ]
  },
  {
   "cell_type": "code",
   "execution_count": 34,
   "metadata": {
    "tags": []
   },
   "outputs": [
    {
     "data": {
      "text/plain": [
       "<matplotlib.collections.PathCollection at 0x7f8d2ba71a30>"
      ]
     },
     "execution_count": 34,
     "metadata": {},
     "output_type": "execute_result"
    },
    {
     "data": {
      "image/png": "[encoded data removed]",
      "text/plain": [
       "<Figure size 432x288 with 1 Axes>"
      ]
     },
     "metadata": {
      "needs_background": "light"
     },
     "output_type": "display_data"
    }
   ],
   "source": [
    "plt.scatter(X['GDP'], y)\n",
    "#plt.savefig('Regression Predictions Using Features.png')"
   ]
  },
  {
   "cell_type": "code",
   "execution_count": 35,
   "metadata": {},
   "outputs": [
    {
     "data": {
      "text/plain": [
       "<matplotlib.collections.PathCollection at 0x7f8d2bb29a30>"
      ]
     },
     "execution_count": 35,
     "metadata": {},
     "output_type": "execute_result"
    },
    {
     "data": {
      "image/png": "[encoded data removed]",
      "text/plain": [
       "<Figure size 432x288 with 1 Axes>"
      ]
     },
     "metadata": {
      "needs_background": "light"
     },
     "output_type": "display_data"
    }
   ],
   "source": [
    "plt.scatter(X['US Population data'], y)"
   ]
  },
  {
   "cell_type": "code",
   "execution_count": 36,
   "metadata": {},
   "outputs": [],
   "source": [
    "from sklearn.metrics import mean_squared_error, r2_score\n",
    "import numpy as np\n",
    "\n",
    "score = model.score(X, y, sample_weight=None)\n",
    "r2 = r2_score(y, predicted_y_values)\n",
    "mse = mean_squared_error(y, predicted_y_values)\n",
    "rmse = np.sqrt(mse)\n",
    "std = np.std(y)"
   ]
  },
  {
   "cell_type": "code",
   "execution_count": 37,
   "metadata": {},
   "outputs": [
    {
     "name": "stdout",
     "output_type": "stream",
     "text": [
      "The score is 0.5233561403437383.\n",
      "The r2 is 0.5233561403437383.\n",
      "The mean squared error is 3.8657243844661857.\n",
      "The root mean squared error is 1.9661445482126145.\n",
      "The standard deviation is Case-Shiller U.S. National Home Price Index    2.847859\n",
      "dtype: float64.\n"
     ]
    }
   ],
   "source": [
    "# Print releveant metrics.\n",
    "print(f\"The score is {score}.\")\n",
    "print(f\"The r2 is {r2}.\")\n",
    "print(f\"The mean squared error is {mse}.\")\n",
    "print(f\"The root mean squared error is {rmse}.\")\n",
    "print(f\"The standard deviation is {std}.\")"
   ]
  },
  {
   "cell_type": "code",
   "execution_count": null,
   "metadata": {},
   "outputs": [],
   "source": [
    "import statsmodels.api as sm\n",
    "from scipy import stats\n",
    "X2 = sm.add_constant(X)\n",
    "est = sm.OLS(y, X2)\n",
    "est2 = est.fit()\n",
    "print(est2.summary())"
   ]
  },
  {
   "cell_type": "markdown",
   "metadata": {},
   "source": [
    "### Conclusion\n",
    "\n",
    "An R squared of 0.52 means 52% of the variance in the Target (CS-Index) is explained by the features. At a p-value of 0.05, statistically insignificant features are: Monthly supply of houses in the US; Mediam Sales Price of Houses Sold and 10-year Treasury.\n",
    "\n",
    "Of concern, is the Median Sales Price of Houses Sold being insignificant at p-value of 0.05.However, https://propertyupdate.com.au/median-price/ - as explains, median sales price is not significant when dataset is very heterogenous. Furthermore, capital cities are known for being heterogenous hence may not be of concern.\n",
    "\n",
    "On a suburb level, where the properties are largely homogenous and therefore of similar pricingm we are likely to see the median price as a more accurate reflection of true value changes."
   ]
  },
  {
   "cell_type": "markdown",
   "metadata": {},
   "source": [
    "### Using Lagged Returns as X Variable"
   ]
  },
  {
   "cell_type": "code",
   "execution_count": null,
   "metadata": {},
   "outputs": [],
   "source": [
    "# Creating the Lagged Column\n",
    "CS['Lagged_Return'] = CS['pct_change'].shift()\n",
    "CS= CS.dropna()\n",
    "CS.head()"
   ]
  },
  {
   "cell_type": "code",
   "execution_count": null,
   "metadata": {},
   "outputs": [],
   "source": [
    "CS.shape"
   ]
  },
  {
   "cell_type": "code",
   "execution_count": null,
   "metadata": {},
   "outputs": [],
   "source": [
    "# Set y as the `Return` column\n",
    "y_2 = CS['pct_change']"
   ]
  },
  {
   "cell_type": "code",
   "execution_count": null,
   "metadata": {},
   "outputs": [],
   "source": [
    "X_2 = CS['Lagged_Return'].to_frame()\n",
    "X_2.head()"
   ]
  },
  {
   "cell_type": "code",
   "execution_count": null,
   "metadata": {},
   "outputs": [],
   "source": [
    "# Create a Linear Regression model and fit it to the data\n",
    "model = LinearRegression()\n",
    "model.fit(X_2, y_2)"
   ]
  },
  {
   "cell_type": "code",
   "execution_count": null,
   "metadata": {},
   "outputs": [],
   "source": [
    "# Creating predicted y values based on X\n",
    "predictions = model.predict(X_2)"
   ]
  },
  {
   "cell_type": "code",
   "execution_count": null,
   "metadata": {},
   "outputs": [],
   "source": [
    "# Ploting the results. The best fit line is red.\n",
    "plt.scatter(X_2, y_2)\n",
    "plt.plot(X_2, predictions, color='red')"
   ]
  },
  {
   "cell_type": "code",
   "execution_count": null,
   "metadata": {},
   "outputs": [],
   "source": [
    "# Evaluating the Model\n",
    "\n",
    "score = model.score(X_2, y_2, sample_weight=None)\n",
    "r2 = r2_score(y_2, predictions)\n",
    "mse = mean_squared_error(y_2, predictions)\n",
    "rmse = np.sqrt(mse)\n",
    "std = np.std(y)"
   ]
  },
  {
   "cell_type": "code",
   "execution_count": null,
   "metadata": {},
   "outputs": [],
   "source": [
    "# Print releveant metrics.\n",
    "print(f\"The score is {score}.\")\n",
    "print(f\"The r2 is {r2}.\")\n",
    "print(f\"The mean squared error is {mse}.\")\n",
    "print(f\"The root mean squared error is {rmse}.\")\n",
    "print(f\"The standard deviation is {std}.\")"
   ]
  },
  {
   "cell_type": "markdown",
   "metadata": {},
   "source": [
    "### Conclusion\n",
    "\n",
    "Regression Model using the Features as the X variable provides a much higher R sqaured value of 0.52 than a Regression Model using Lagged Returens as the X variable, which provided a R sqaured value of 0.28.\n",
    "\n",
    "While the MSE of Regression Model with Lagged Returns is lower (2.38) compared to Regression Model with Features (3.86)\n",
    "\n",
    "Regression Model using Features as the X value is a better predictor."
   ]
  },
  {
   "cell_type": "code",
   "execution_count": null,
   "metadata": {},
   "outputs": [],
   "source": []
  },
  {
   "cell_type": "markdown",
   "metadata": {},
   "source": [
    "# OLR Regression with Test-Train Split"
   ]
  },
  {
   "cell_type": "code",
   "execution_count": 38,
   "metadata": {},
   "outputs": [
    {
     "data": {
      "text/plain": [
       "LinearRegression()"
      ]
     },
     "execution_count": 38,
     "metadata": {},
     "output_type": "execute_result"
    }
   ],
   "source": [
    "# Split the dataset into training and testing data\n",
    "X_train, X_test, y_train, y_test = train_test_split(X, y, shuffle=False)\n",
    "\n",
    "model.fit(X_train, y_train)"
   ]
  },
  {
   "cell_type": "code",
   "execution_count": 39,
   "metadata": {},
   "outputs": [],
   "source": [
    "# Making predictions\n",
    "predicted_y_values = model.predict(X_test)"
   ]
  },
  {
   "cell_type": "code",
   "execution_count": 40,
   "metadata": {},
   "outputs": [
    {
     "data": {
      "image/png": "[encoded data removed]",
      "text/plain": [
       "<Figure size 432x288 with 1 Axes>"
      ]
     },
     "metadata": {
      "needs_background": "light"
     },
     "output_type": "display_data"
    }
   ],
   "source": [
    "plt.scatter(predicted_y_values, y_test)\n",
    "plt.savefig('Regression Predictions Using Features.png')"
   ]
  },
  {
   "cell_type": "code",
   "execution_count": 41,
   "metadata": {},
   "outputs": [],
   "source": [
    "score = model.score(X_test, y_test, sample_weight=None)\n",
    "r2 = r2_score(y_test, predicted_y_values)\n",
    "mse = mean_squared_error(y_test, predicted_y_values)\n",
    "rmse = np.sqrt(mse)\n",
    "std = np.std(y)"
   ]
  },
  {
   "cell_type": "code",
   "execution_count": 42,
   "metadata": {},
   "outputs": [
    {
     "name": "stdout",
     "output_type": "stream",
     "text": [
      "The score is -1.1959733617060047.\n",
      "The r2 is -1.1959733617060047.\n",
      "The mean squared error is 15.747700328669623.\n",
      "The root mean squared error is 3.968337224665971.\n",
      "The standard deviation is Case-Shiller U.S. National Home Price Index    2.847859\n",
      "dtype: float64.\n"
     ]
    }
   ],
   "source": [
    "# Print releveant metrics.\n",
    "print(f\"The score is {score}.\")\n",
    "print(f\"The r2 is {r2}.\")\n",
    "print(f\"The mean squared error is {mse}.\")\n",
    "print(f\"The root mean squared error is {rmse}.\")\n",
    "print(f\"The standard deviation is {std}.\")"
   ]
  },
  {
   "cell_type": "markdown",
   "metadata": {},
   "source": [
    "# Back testing with OLR using train-test split"
   ]
  },
  {
   "cell_type": "markdown",
   "metadata": {},
   "source": [
    "Using the Linear Regression Model with features as a Baseline, keeping all features.\n",
    "1. Get X features from 2012-2021\n",
    "2. Use train test model to predict on those features - done with OLR\n",
    "3. Look at predictions, when high, buy IYR, when low, sell IYR (for example, if below -5)\n",
    "4. See what PnL would be for this time period"
   ]
  },
  {
   "cell_type": "code",
   "execution_count": 43,
   "metadata": {},
   "outputs": [],
   "source": [
    "# Initial imports\n",
    "import os\n",
    "import requests\n",
    "import pandas as pd\n",
    "from dotenv import load_dotenv\n",
    "import alpaca_trade_api as tradeapi\n",
    "%matplotlib inline\n",
    "import json"
   ]
  },
  {
   "cell_type": "code",
   "execution_count": 44,
   "metadata": {},
   "outputs": [
    {
     "data": {
      "text/plain": [
       "True"
      ]
     },
     "execution_count": 44,
     "metadata": {},
     "output_type": "execute_result"
    }
   ],
   "source": [
    "# Load .env enviroment variables\n",
    "load_dotenv()"
   ]
  },
  {
   "cell_type": "code",
   "execution_count": 45,
   "metadata": {},
   "outputs": [],
   "source": [
    "# Set Alpaca API key and secret\n",
    "alpaca_api_key = os.getenv(\"ALPACA_API_KEY\")\n",
    "alpaca_secret_key = os.getenv(\"ALPACA_SECRET_KEY\")\n",
    "\n",
    "#Create the Alpaca API object\n",
    "api = tradeapi.REST(\n",
    "    alpaca_api_key,\n",
    "    alpaca_secret_key,\n",
    "    api_version = \"v2\"\n",
    ")"
   ]
  },
  {
   "cell_type": "code",
   "execution_count": 87,
   "metadata": {},
   "outputs": [
    {
     "data": {
      "text/html": [
       "<div>\n",
       "<style scoped>\n",
       "    .dataframe tbody tr th:only-of-type {\n",
       "        vertical-align: middle;\n",
       "    }\n",
       "\n",
       "    .dataframe tbody tr th {\n",
       "        vertical-align: top;\n",
       "    }\n",
       "\n",
       "    .dataframe thead tr th {\n",
       "        text-align: left;\n",
       "    }\n",
       "</style>\n",
       "<table border=\"1\" class=\"dataframe\">\n",
       "  <thead>\n",
       "    <tr>\n",
       "      <th></th>\n",
       "      <th colspan=\"5\" halign=\"left\">IYR</th>\n",
       "    </tr>\n",
       "    <tr>\n",
       "      <th></th>\n",
       "      <th>open</th>\n",
       "      <th>high</th>\n",
       "      <th>low</th>\n",
       "      <th>close</th>\n",
       "      <th>volume</th>\n",
       "    </tr>\n",
       "  </thead>\n",
       "  <tbody>\n",
       "    <tr>\n",
       "      <th>count</th>\n",
       "      <td>1000.000000</td>\n",
       "      <td>1000.000000</td>\n",
       "      <td>1000.000000</td>\n",
       "      <td>1000.000000</td>\n",
       "      <td>1.000000e+03</td>\n",
       "    </tr>\n",
       "    <tr>\n",
       "      <th>mean</th>\n",
       "      <td>74.264425</td>\n",
       "      <td>74.694250</td>\n",
       "      <td>73.827982</td>\n",
       "      <td>74.287186</td>\n",
       "      <td>7.529349e+06</td>\n",
       "    </tr>\n",
       "    <tr>\n",
       "      <th>std</th>\n",
       "      <td>5.466129</td>\n",
       "      <td>5.471448</td>\n",
       "      <td>5.450751</td>\n",
       "      <td>5.473143</td>\n",
       "      <td>3.164098e+06</td>\n",
       "    </tr>\n",
       "    <tr>\n",
       "      <th>min</th>\n",
       "      <td>61.250000</td>\n",
       "      <td>61.880000</td>\n",
       "      <td>60.940000</td>\n",
       "      <td>60.950000</td>\n",
       "      <td>2.126553e+06</td>\n",
       "    </tr>\n",
       "    <tr>\n",
       "      <th>25%</th>\n",
       "      <td>70.960000</td>\n",
       "      <td>71.377500</td>\n",
       "      <td>70.547500</td>\n",
       "      <td>70.972500</td>\n",
       "      <td>5.353576e+06</td>\n",
       "    </tr>\n",
       "    <tr>\n",
       "      <th>50%</th>\n",
       "      <td>75.045000</td>\n",
       "      <td>75.505000</td>\n",
       "      <td>74.670000</td>\n",
       "      <td>75.165000</td>\n",
       "      <td>6.886710e+06</td>\n",
       "    </tr>\n",
       "    <tr>\n",
       "      <th>75%</th>\n",
       "      <td>78.225000</td>\n",
       "      <td>78.632500</td>\n",
       "      <td>77.815000</td>\n",
       "      <td>78.222500</td>\n",
       "      <td>8.808305e+06</td>\n",
       "    </tr>\n",
       "    <tr>\n",
       "      <th>max</th>\n",
       "      <td>85.500000</td>\n",
       "      <td>85.800000</td>\n",
       "      <td>85.320000</td>\n",
       "      <td>85.720000</td>\n",
       "      <td>3.141008e+07</td>\n",
       "    </tr>\n",
       "  </tbody>\n",
       "</table>\n",
       "</div>"
      ],
      "text/plain": [
       "               IYR                                                     \n",
       "              open         high          low        close        volume\n",
       "count  1000.000000  1000.000000  1000.000000  1000.000000  1.000000e+03\n",
       "mean     74.264425    74.694250    73.827982    74.287186  7.529349e+06\n",
       "std       5.466129     5.471448     5.450751     5.473143  3.164098e+06\n",
       "min      61.250000    61.880000    60.940000    60.950000  2.126553e+06\n",
       "25%      70.960000    71.377500    70.547500    70.972500  5.353576e+06\n",
       "50%      75.045000    75.505000    74.670000    75.165000  6.886710e+06\n",
       "75%      78.225000    78.632500    77.815000    78.222500  8.808305e+06\n",
       "max      85.500000    85.800000    85.320000    85.720000  3.141008e+07"
      ]
     },
     "execution_count": 87,
     "metadata": {},
     "output_type": "execute_result"
    }
   ],
   "source": [
    "# Creating df from 2013-2017\n",
    "# Format current date as ISO format\n",
    "start_date = pd.Timestamp(\"2013-07-26\", tz=\"America/New_York\").isoformat()\n",
    "end_date = pd.Timestamp(\"2017-07-26\", tz=\"America/New_York\").isoformat()\n",
    "\n",
    "# Set the tickers\n",
    "tickers = [\"IYR\"]\n",
    "\n",
    "# Set timeframe to '1D' for Alpaca API\n",
    "timeframe = \"1D\"\n",
    "\n",
    "# Get current closing prices for IYR\n",
    "df = api.get_barset(\n",
    "    tickers,\n",
    "    timeframe,\n",
    "    start=start_date,\n",
    "    end=end_date,\n",
    "    limit=1000,\n",
    ").df\n",
    "\n",
    "# Preview DataFrame\n",
    "#df.index = df.index.date\n",
    "df.describe()"
   ]
  },
  {
   "cell_type": "code",
   "execution_count": 88,
   "metadata": {},
   "outputs": [
    {
     "data": {
      "text/html": [
       "<div>\n",
       "<style scoped>\n",
       "    .dataframe tbody tr th:only-of-type {\n",
       "        vertical-align: middle;\n",
       "    }\n",
       "\n",
       "    .dataframe tbody tr th {\n",
       "        vertical-align: top;\n",
       "    }\n",
       "\n",
       "    .dataframe thead tr th {\n",
       "        text-align: left;\n",
       "    }\n",
       "</style>\n",
       "<table border=\"1\" class=\"dataframe\">\n",
       "  <thead>\n",
       "    <tr>\n",
       "      <th></th>\n",
       "      <th colspan=\"5\" halign=\"left\">IYR</th>\n",
       "    </tr>\n",
       "    <tr>\n",
       "      <th></th>\n",
       "      <th>open</th>\n",
       "      <th>high</th>\n",
       "      <th>low</th>\n",
       "      <th>close</th>\n",
       "      <th>volume</th>\n",
       "    </tr>\n",
       "  </thead>\n",
       "  <tbody>\n",
       "    <tr>\n",
       "      <th>count</th>\n",
       "      <td>1000.000000</td>\n",
       "      <td>1000.000000</td>\n",
       "      <td>1000.000000</td>\n",
       "      <td>1000.000000</td>\n",
       "      <td>1.000000e+03</td>\n",
       "    </tr>\n",
       "    <tr>\n",
       "      <th>mean</th>\n",
       "      <td>84.424253</td>\n",
       "      <td>85.003483</td>\n",
       "      <td>83.786686</td>\n",
       "      <td>84.425742</td>\n",
       "      <td>6.977077e+06</td>\n",
       "    </tr>\n",
       "    <tr>\n",
       "      <th>std</th>\n",
       "      <td>7.855471</td>\n",
       "      <td>7.765729</td>\n",
       "      <td>7.965634</td>\n",
       "      <td>7.883305</td>\n",
       "      <td>3.926676e+06</td>\n",
       "    </tr>\n",
       "    <tr>\n",
       "      <th>min</th>\n",
       "      <td>60.660000</td>\n",
       "      <td>60.660000</td>\n",
       "      <td>56.270000</td>\n",
       "      <td>57.700000</td>\n",
       "      <td>9.100870e+05</td>\n",
       "    </tr>\n",
       "    <tr>\n",
       "      <th>25%</th>\n",
       "      <td>79.412500</td>\n",
       "      <td>79.877500</td>\n",
       "      <td>78.837500</td>\n",
       "      <td>79.355000</td>\n",
       "      <td>4.561512e+06</td>\n",
       "    </tr>\n",
       "    <tr>\n",
       "      <th>50%</th>\n",
       "      <td>82.400000</td>\n",
       "      <td>82.905000</td>\n",
       "      <td>81.940000</td>\n",
       "      <td>82.480000</td>\n",
       "      <td>5.870230e+06</td>\n",
       "    </tr>\n",
       "    <tr>\n",
       "      <th>75%</th>\n",
       "      <td>89.640000</td>\n",
       "      <td>90.338750</td>\n",
       "      <td>89.175000</td>\n",
       "      <td>89.782500</td>\n",
       "      <td>8.127944e+06</td>\n",
       "    </tr>\n",
       "    <tr>\n",
       "      <th>max</th>\n",
       "      <td>106.550000</td>\n",
       "      <td>106.810000</td>\n",
       "      <td>105.940000</td>\n",
       "      <td>106.260000</td>\n",
       "      <td>3.318459e+07</td>\n",
       "    </tr>\n",
       "  </tbody>\n",
       "</table>\n",
       "</div>"
      ],
      "text/plain": [
       "               IYR                                                     \n",
       "              open         high          low        close        volume\n",
       "count  1000.000000  1000.000000  1000.000000  1000.000000  1.000000e+03\n",
       "mean     84.424253    85.003483    83.786686    84.425742  6.977077e+06\n",
       "std       7.855471     7.765729     7.965634     7.883305  3.926676e+06\n",
       "min      60.660000    60.660000    56.270000    57.700000  9.100870e+05\n",
       "25%      79.412500    79.877500    78.837500    79.355000  4.561512e+06\n",
       "50%      82.400000    82.905000    81.940000    82.480000  5.870230e+06\n",
       "75%      89.640000    90.338750    89.175000    89.782500  8.127944e+06\n",
       "max     106.550000   106.810000   105.940000   106.260000  3.318459e+07"
      ]
     },
     "execution_count": 88,
     "metadata": {},
     "output_type": "execute_result"
    }
   ],
   "source": [
    "# Creating second df from 2017 - 2021\n",
    "# Format current date as ISO format\n",
    "start_date = pd.Timestamp(\"2017-07-26\", tz=\"America/New_York\").isoformat()\n",
    "end_date = pd.Timestamp(\"2021-07-26\", tz=\"America/New_York\").isoformat()\n",
    "\n",
    "# Set the tickers\n",
    "tickers = [\"IYR\"]\n",
    "\n",
    "# Set timeframe to '1D' for Alpaca API\n",
    "timeframe = \"1D\"\n",
    "\n",
    "# Get current closing prices for IYR\n",
    "df_2 = api.get_barset(\n",
    "    tickers,\n",
    "    timeframe,\n",
    "    start=start_date,\n",
    "    end=end_date,\n",
    "    limit=1000,\n",
    ").df\n",
    "\n",
    "# Preview DataFrame\n",
    "#df.index = df.index.date\n",
    "df_2.describe()"
   ]
  },
  {
   "cell_type": "code",
   "execution_count": 89,
   "metadata": {},
   "outputs": [
    {
     "data": {
      "text/html": [
       "<div>\n",
       "<style scoped>\n",
       "    .dataframe tbody tr th:only-of-type {\n",
       "        vertical-align: middle;\n",
       "    }\n",
       "\n",
       "    .dataframe tbody tr th {\n",
       "        vertical-align: top;\n",
       "    }\n",
       "\n",
       "    .dataframe thead tr th {\n",
       "        text-align: left;\n",
       "    }\n",
       "\n",
       "    .dataframe thead tr:last-of-type th {\n",
       "        text-align: right;\n",
       "    }\n",
       "</style>\n",
       "<table border=\"1\" class=\"dataframe\">\n",
       "  <thead>\n",
       "    <tr>\n",
       "      <th></th>\n",
       "      <th colspan=\"5\" halign=\"left\">IYR</th>\n",
       "    </tr>\n",
       "    <tr>\n",
       "      <th></th>\n",
       "      <th>open</th>\n",
       "      <th>high</th>\n",
       "      <th>low</th>\n",
       "      <th>close</th>\n",
       "      <th>volume</th>\n",
       "    </tr>\n",
       "    <tr>\n",
       "      <th>time</th>\n",
       "      <th></th>\n",
       "      <th></th>\n",
       "      <th></th>\n",
       "      <th></th>\n",
       "      <th></th>\n",
       "    </tr>\n",
       "  </thead>\n",
       "  <tbody>\n",
       "    <tr>\n",
       "      <th>2013-08-07 00:00:00-04:00</th>\n",
       "      <td>65.66</td>\n",
       "      <td>65.660</td>\n",
       "      <td>65.081</td>\n",
       "      <td>65.36</td>\n",
       "      <td>5199980</td>\n",
       "    </tr>\n",
       "    <tr>\n",
       "      <th>2013-08-08 00:00:00-04:00</th>\n",
       "      <td>65.55</td>\n",
       "      <td>65.700</td>\n",
       "      <td>65.120</td>\n",
       "      <td>65.47</td>\n",
       "      <td>6385446</td>\n",
       "    </tr>\n",
       "    <tr>\n",
       "      <th>2013-08-09 00:00:00-04:00</th>\n",
       "      <td>65.38</td>\n",
       "      <td>66.410</td>\n",
       "      <td>65.200</td>\n",
       "      <td>66.07</td>\n",
       "      <td>5922429</td>\n",
       "    </tr>\n",
       "    <tr>\n",
       "      <th>2013-08-12 00:00:00-04:00</th>\n",
       "      <td>65.73</td>\n",
       "      <td>65.945</td>\n",
       "      <td>65.331</td>\n",
       "      <td>65.57</td>\n",
       "      <td>7774297</td>\n",
       "    </tr>\n",
       "    <tr>\n",
       "      <th>2013-08-13 00:00:00-04:00</th>\n",
       "      <td>65.60</td>\n",
       "      <td>65.650</td>\n",
       "      <td>64.440</td>\n",
       "      <td>64.60</td>\n",
       "      <td>10130713</td>\n",
       "    </tr>\n",
       "  </tbody>\n",
       "</table>\n",
       "</div>"
      ],
      "text/plain": [
       "                             IYR                                 \n",
       "                            open    high     low  close    volume\n",
       "time                                                             \n",
       "2013-08-07 00:00:00-04:00  65.66  65.660  65.081  65.36   5199980\n",
       "2013-08-08 00:00:00-04:00  65.55  65.700  65.120  65.47   6385446\n",
       "2013-08-09 00:00:00-04:00  65.38  66.410  65.200  66.07   5922429\n",
       "2013-08-12 00:00:00-04:00  65.73  65.945  65.331  65.57   7774297\n",
       "2013-08-13 00:00:00-04:00  65.60  65.650  64.440  64.60  10130713"
      ]
     },
     "execution_count": 89,
     "metadata": {},
     "output_type": "execute_result"
    }
   ],
   "source": [
    "df.head()"
   ]
  },
  {
   "cell_type": "code",
   "execution_count": 90,
   "metadata": {},
   "outputs": [
    {
     "data": {
      "text/html": [
       "<div>\n",
       "<style scoped>\n",
       "    .dataframe tbody tr th:only-of-type {\n",
       "        vertical-align: middle;\n",
       "    }\n",
       "\n",
       "    .dataframe tbody tr th {\n",
       "        vertical-align: top;\n",
       "    }\n",
       "\n",
       "    .dataframe thead tr th {\n",
       "        text-align: left;\n",
       "    }\n",
       "\n",
       "    .dataframe thead tr:last-of-type th {\n",
       "        text-align: right;\n",
       "    }\n",
       "</style>\n",
       "<table border=\"1\" class=\"dataframe\">\n",
       "  <thead>\n",
       "    <tr>\n",
       "      <th></th>\n",
       "      <th colspan=\"5\" halign=\"left\">IYR</th>\n",
       "    </tr>\n",
       "    <tr>\n",
       "      <th></th>\n",
       "      <th>open</th>\n",
       "      <th>high</th>\n",
       "      <th>low</th>\n",
       "      <th>close</th>\n",
       "      <th>volume</th>\n",
       "    </tr>\n",
       "    <tr>\n",
       "      <th>time</th>\n",
       "      <th></th>\n",
       "      <th></th>\n",
       "      <th></th>\n",
       "      <th></th>\n",
       "      <th></th>\n",
       "    </tr>\n",
       "  </thead>\n",
       "  <tbody>\n",
       "    <tr>\n",
       "      <th>2017-08-03 00:00:00-04:00</th>\n",
       "      <td>80.42</td>\n",
       "      <td>80.73</td>\n",
       "      <td>80.10</td>\n",
       "      <td>80.27</td>\n",
       "      <td>4699142</td>\n",
       "    </tr>\n",
       "    <tr>\n",
       "      <th>2017-08-04 00:00:00-04:00</th>\n",
       "      <td>80.25</td>\n",
       "      <td>80.73</td>\n",
       "      <td>80.21</td>\n",
       "      <td>80.52</td>\n",
       "      <td>5281921</td>\n",
       "    </tr>\n",
       "    <tr>\n",
       "      <th>2017-08-07 00:00:00-04:00</th>\n",
       "      <td>80.47</td>\n",
       "      <td>80.63</td>\n",
       "      <td>80.16</td>\n",
       "      <td>80.52</td>\n",
       "      <td>3928330</td>\n",
       "    </tr>\n",
       "    <tr>\n",
       "      <th>2017-08-08 00:00:00-04:00</th>\n",
       "      <td>80.01</td>\n",
       "      <td>80.44</td>\n",
       "      <td>79.88</td>\n",
       "      <td>80.10</td>\n",
       "      <td>6121296</td>\n",
       "    </tr>\n",
       "    <tr>\n",
       "      <th>2017-08-09 00:00:00-04:00</th>\n",
       "      <td>80.30</td>\n",
       "      <td>80.30</td>\n",
       "      <td>79.77</td>\n",
       "      <td>79.99</td>\n",
       "      <td>4016570</td>\n",
       "    </tr>\n",
       "  </tbody>\n",
       "</table>\n",
       "</div>"
      ],
      "text/plain": [
       "                             IYR                              \n",
       "                            open   high    low  close   volume\n",
       "time                                                          \n",
       "2017-08-03 00:00:00-04:00  80.42  80.73  80.10  80.27  4699142\n",
       "2017-08-04 00:00:00-04:00  80.25  80.73  80.21  80.52  5281921\n",
       "2017-08-07 00:00:00-04:00  80.47  80.63  80.16  80.52  3928330\n",
       "2017-08-08 00:00:00-04:00  80.01  80.44  79.88  80.10  6121296\n",
       "2017-08-09 00:00:00-04:00  80.30  80.30  79.77  79.99  4016570"
      ]
     },
     "execution_count": 90,
     "metadata": {},
     "output_type": "execute_result"
    }
   ],
   "source": [
    "df_2.head()"
   ]
  },
  {
   "cell_type": "code",
   "execution_count": 93,
   "metadata": {},
   "outputs": [],
   "source": [
    "# Concat the two dfs from 2013-2021\n",
    "df_all = pd.concat([df,df_2],axis='rows')"
   ]
  },
  {
   "cell_type": "code",
   "execution_count": 94,
   "metadata": {},
   "outputs": [
    {
     "data": {
      "text/html": [
       "<div>\n",
       "<style scoped>\n",
       "    .dataframe tbody tr th:only-of-type {\n",
       "        vertical-align: middle;\n",
       "    }\n",
       "\n",
       "    .dataframe tbody tr th {\n",
       "        vertical-align: top;\n",
       "    }\n",
       "\n",
       "    .dataframe thead tr th {\n",
       "        text-align: left;\n",
       "    }\n",
       "\n",
       "    .dataframe thead tr:last-of-type th {\n",
       "        text-align: right;\n",
       "    }\n",
       "</style>\n",
       "<table border=\"1\" class=\"dataframe\">\n",
       "  <thead>\n",
       "    <tr>\n",
       "      <th></th>\n",
       "      <th colspan=\"5\" halign=\"left\">IYR</th>\n",
       "    </tr>\n",
       "    <tr>\n",
       "      <th></th>\n",
       "      <th>open</th>\n",
       "      <th>high</th>\n",
       "      <th>low</th>\n",
       "      <th>close</th>\n",
       "      <th>volume</th>\n",
       "    </tr>\n",
       "    <tr>\n",
       "      <th>time</th>\n",
       "      <th></th>\n",
       "      <th></th>\n",
       "      <th></th>\n",
       "      <th></th>\n",
       "      <th></th>\n",
       "    </tr>\n",
       "  </thead>\n",
       "  <tbody>\n",
       "    <tr>\n",
       "      <th>2013-08-07 00:00:00-04:00</th>\n",
       "      <td>65.66</td>\n",
       "      <td>65.660</td>\n",
       "      <td>65.081</td>\n",
       "      <td>65.36</td>\n",
       "      <td>5199980</td>\n",
       "    </tr>\n",
       "    <tr>\n",
       "      <th>2013-08-08 00:00:00-04:00</th>\n",
       "      <td>65.55</td>\n",
       "      <td>65.700</td>\n",
       "      <td>65.120</td>\n",
       "      <td>65.47</td>\n",
       "      <td>6385446</td>\n",
       "    </tr>\n",
       "    <tr>\n",
       "      <th>2013-08-09 00:00:00-04:00</th>\n",
       "      <td>65.38</td>\n",
       "      <td>66.410</td>\n",
       "      <td>65.200</td>\n",
       "      <td>66.07</td>\n",
       "      <td>5922429</td>\n",
       "    </tr>\n",
       "    <tr>\n",
       "      <th>2013-08-12 00:00:00-04:00</th>\n",
       "      <td>65.73</td>\n",
       "      <td>65.945</td>\n",
       "      <td>65.331</td>\n",
       "      <td>65.57</td>\n",
       "      <td>7774297</td>\n",
       "    </tr>\n",
       "    <tr>\n",
       "      <th>2013-08-13 00:00:00-04:00</th>\n",
       "      <td>65.60</td>\n",
       "      <td>65.650</td>\n",
       "      <td>64.440</td>\n",
       "      <td>64.60</td>\n",
       "      <td>10130713</td>\n",
       "    </tr>\n",
       "    <tr>\n",
       "      <th>...</th>\n",
       "      <td>...</td>\n",
       "      <td>...</td>\n",
       "      <td>...</td>\n",
       "      <td>...</td>\n",
       "      <td>...</td>\n",
       "    </tr>\n",
       "    <tr>\n",
       "      <th>2021-07-19 00:00:00-04:00</th>\n",
       "      <td>104.83</td>\n",
       "      <td>104.890</td>\n",
       "      <td>103.170</td>\n",
       "      <td>103.98</td>\n",
       "      <td>11052952</td>\n",
       "    </tr>\n",
       "    <tr>\n",
       "      <th>2021-07-20 00:00:00-04:00</th>\n",
       "      <td>104.52</td>\n",
       "      <td>106.650</td>\n",
       "      <td>104.380</td>\n",
       "      <td>106.24</td>\n",
       "      <td>7472995</td>\n",
       "    </tr>\n",
       "    <tr>\n",
       "      <th>2021-07-21 00:00:00-04:00</th>\n",
       "      <td>106.55</td>\n",
       "      <td>106.810</td>\n",
       "      <td>105.940</td>\n",
       "      <td>106.13</td>\n",
       "      <td>6627969</td>\n",
       "    </tr>\n",
       "    <tr>\n",
       "      <th>2021-07-22 00:00:00-04:00</th>\n",
       "      <td>105.65</td>\n",
       "      <td>105.760</td>\n",
       "      <td>104.830</td>\n",
       "      <td>105.32</td>\n",
       "      <td>4662667</td>\n",
       "    </tr>\n",
       "    <tr>\n",
       "      <th>2021-07-23 00:00:00-04:00</th>\n",
       "      <td>105.68</td>\n",
       "      <td>106.410</td>\n",
       "      <td>105.435</td>\n",
       "      <td>106.26</td>\n",
       "      <td>5234603</td>\n",
       "    </tr>\n",
       "  </tbody>\n",
       "</table>\n",
       "<p>2000 rows × 5 columns</p>\n",
       "</div>"
      ],
      "text/plain": [
       "                              IYR                                    \n",
       "                             open     high      low   close    volume\n",
       "time                                                                 \n",
       "2013-08-07 00:00:00-04:00   65.66   65.660   65.081   65.36   5199980\n",
       "2013-08-08 00:00:00-04:00   65.55   65.700   65.120   65.47   6385446\n",
       "2013-08-09 00:00:00-04:00   65.38   66.410   65.200   66.07   5922429\n",
       "2013-08-12 00:00:00-04:00   65.73   65.945   65.331   65.57   7774297\n",
       "2013-08-13 00:00:00-04:00   65.60   65.650   64.440   64.60  10130713\n",
       "...                           ...      ...      ...     ...       ...\n",
       "2021-07-19 00:00:00-04:00  104.83  104.890  103.170  103.98  11052952\n",
       "2021-07-20 00:00:00-04:00  104.52  106.650  104.380  106.24   7472995\n",
       "2021-07-21 00:00:00-04:00  106.55  106.810  105.940  106.13   6627969\n",
       "2021-07-22 00:00:00-04:00  105.65  105.760  104.830  105.32   4662667\n",
       "2021-07-23 00:00:00-04:00  105.68  106.410  105.435  106.26   5234603\n",
       "\n",
       "[2000 rows x 5 columns]"
      ]
     },
     "execution_count": 94,
     "metadata": {},
     "output_type": "execute_result"
    }
   ],
   "source": [
    "df_all"
   ]
  },
  {
   "cell_type": "code",
   "execution_count": 95,
   "metadata": {
    "tags": []
   },
   "outputs": [
    {
     "data": {
      "text/plain": [
       "(17, 5)"
      ]
     },
     "execution_count": 95,
     "metadata": {},
     "output_type": "execute_result"
    }
   ],
   "source": [
    "# Load Target - IYR Data\n",
    "df_all = df.resample('Q').last()\n",
    "\n",
    "df_all.shape"
   ]
  },
  {
   "cell_type": "code",
   "execution_count": 96,
   "metadata": {},
   "outputs": [
    {
     "data": {
      "text/html": [
       "<div>\n",
       "<style scoped>\n",
       "    .dataframe tbody tr th:only-of-type {\n",
       "        vertical-align: middle;\n",
       "    }\n",
       "\n",
       "    .dataframe tbody tr th {\n",
       "        vertical-align: top;\n",
       "    }\n",
       "\n",
       "    .dataframe thead tr th {\n",
       "        text-align: left;\n",
       "    }\n",
       "\n",
       "    .dataframe thead tr:last-of-type th {\n",
       "        text-align: right;\n",
       "    }\n",
       "</style>\n",
       "<table border=\"1\" class=\"dataframe\">\n",
       "  <thead>\n",
       "    <tr>\n",
       "      <th></th>\n",
       "      <th colspan=\"5\" halign=\"left\">IYR</th>\n",
       "    </tr>\n",
       "    <tr>\n",
       "      <th></th>\n",
       "      <th>open</th>\n",
       "      <th>high</th>\n",
       "      <th>low</th>\n",
       "      <th>close</th>\n",
       "      <th>volume</th>\n",
       "    </tr>\n",
       "    <tr>\n",
       "      <th>time</th>\n",
       "      <th></th>\n",
       "      <th></th>\n",
       "      <th></th>\n",
       "      <th></th>\n",
       "      <th></th>\n",
       "    </tr>\n",
       "  </thead>\n",
       "  <tbody>\n",
       "    <tr>\n",
       "      <th>2013-09-30 00:00:00-04:00</th>\n",
       "      <td>64.07</td>\n",
       "      <td>64.52</td>\n",
       "      <td>63.570</td>\n",
       "      <td>63.785</td>\n",
       "      <td>8713816</td>\n",
       "    </tr>\n",
       "    <tr>\n",
       "      <th>2013-12-31 00:00:00-05:00</th>\n",
       "      <td>63.29</td>\n",
       "      <td>63.52</td>\n",
       "      <td>62.990</td>\n",
       "      <td>63.090</td>\n",
       "      <td>6253472</td>\n",
       "    </tr>\n",
       "    <tr>\n",
       "      <th>2014-03-31 00:00:00-04:00</th>\n",
       "      <td>67.64</td>\n",
       "      <td>67.90</td>\n",
       "      <td>67.085</td>\n",
       "      <td>67.710</td>\n",
       "      <td>7223985</td>\n",
       "    </tr>\n",
       "    <tr>\n",
       "      <th>2014-06-30 00:00:00-04:00</th>\n",
       "      <td>71.90</td>\n",
       "      <td>72.07</td>\n",
       "      <td>71.320</td>\n",
       "      <td>71.810</td>\n",
       "      <td>5933976</td>\n",
       "    </tr>\n",
       "    <tr>\n",
       "      <th>2014-09-30 00:00:00-04:00</th>\n",
       "      <td>69.57</td>\n",
       "      <td>69.73</td>\n",
       "      <td>69.100</td>\n",
       "      <td>69.200</td>\n",
       "      <td>11410640</td>\n",
       "    </tr>\n",
       "    <tr>\n",
       "      <th>2014-12-31 00:00:00-05:00</th>\n",
       "      <td>78.26</td>\n",
       "      <td>78.62</td>\n",
       "      <td>76.760</td>\n",
       "      <td>76.830</td>\n",
       "      <td>7424208</td>\n",
       "    </tr>\n",
       "    <tr>\n",
       "      <th>2015-03-31 00:00:00-04:00</th>\n",
       "      <td>79.37</td>\n",
       "      <td>80.20</td>\n",
       "      <td>79.180</td>\n",
       "      <td>79.310</td>\n",
       "      <td>4442740</td>\n",
       "    </tr>\n",
       "    <tr>\n",
       "      <th>2015-06-30 00:00:00-04:00</th>\n",
       "      <td>71.85</td>\n",
       "      <td>72.00</td>\n",
       "      <td>71.240</td>\n",
       "      <td>71.350</td>\n",
       "      <td>10078502</td>\n",
       "    </tr>\n",
       "    <tr>\n",
       "      <th>2015-09-30 00:00:00-04:00</th>\n",
       "      <td>70.77</td>\n",
       "      <td>71.05</td>\n",
       "      <td>70.320</td>\n",
       "      <td>70.940</td>\n",
       "      <td>9270143</td>\n",
       "    </tr>\n",
       "    <tr>\n",
       "      <th>2015-12-31 00:00:00-05:00</th>\n",
       "      <td>75.76</td>\n",
       "      <td>75.85</td>\n",
       "      <td>74.980</td>\n",
       "      <td>75.080</td>\n",
       "      <td>6485959</td>\n",
       "    </tr>\n",
       "    <tr>\n",
       "      <th>2016-03-31 00:00:00-04:00</th>\n",
       "      <td>77.33</td>\n",
       "      <td>77.96</td>\n",
       "      <td>77.260</td>\n",
       "      <td>77.870</td>\n",
       "      <td>4819828</td>\n",
       "    </tr>\n",
       "    <tr>\n",
       "      <th>2016-06-30 00:00:00-04:00</th>\n",
       "      <td>81.60</td>\n",
       "      <td>82.35</td>\n",
       "      <td>81.030</td>\n",
       "      <td>82.330</td>\n",
       "      <td>8681498</td>\n",
       "    </tr>\n",
       "    <tr>\n",
       "      <th>2016-09-30 00:00:00-04:00</th>\n",
       "      <td>81.51</td>\n",
       "      <td>81.77</td>\n",
       "      <td>80.590</td>\n",
       "      <td>80.600</td>\n",
       "      <td>6888160</td>\n",
       "    </tr>\n",
       "    <tr>\n",
       "      <th>2016-12-31 00:00:00-05:00</th>\n",
       "      <td>76.33</td>\n",
       "      <td>77.09</td>\n",
       "      <td>75.960</td>\n",
       "      <td>76.910</td>\n",
       "      <td>5173593</td>\n",
       "    </tr>\n",
       "    <tr>\n",
       "      <th>2017-03-31 00:00:00-04:00</th>\n",
       "      <td>78.15</td>\n",
       "      <td>78.71</td>\n",
       "      <td>78.010</td>\n",
       "      <td>78.460</td>\n",
       "      <td>7888148</td>\n",
       "    </tr>\n",
       "    <tr>\n",
       "      <th>2017-06-30 00:00:00-04:00</th>\n",
       "      <td>80.11</td>\n",
       "      <td>80.33</td>\n",
       "      <td>79.580</td>\n",
       "      <td>79.750</td>\n",
       "      <td>6282787</td>\n",
       "    </tr>\n",
       "    <tr>\n",
       "      <th>2017-09-30 00:00:00-04:00</th>\n",
       "      <td>80.21</td>\n",
       "      <td>81.01</td>\n",
       "      <td>80.170</td>\n",
       "      <td>80.770</td>\n",
       "      <td>5595801</td>\n",
       "    </tr>\n",
       "  </tbody>\n",
       "</table>\n",
       "</div>"
      ],
      "text/plain": [
       "                             IYR                                 \n",
       "                            open   high     low   close    volume\n",
       "time                                                             \n",
       "2013-09-30 00:00:00-04:00  64.07  64.52  63.570  63.785   8713816\n",
       "2013-12-31 00:00:00-05:00  63.29  63.52  62.990  63.090   6253472\n",
       "2014-03-31 00:00:00-04:00  67.64  67.90  67.085  67.710   7223985\n",
       "2014-06-30 00:00:00-04:00  71.90  72.07  71.320  71.810   5933976\n",
       "2014-09-30 00:00:00-04:00  69.57  69.73  69.100  69.200  11410640\n",
       "2014-12-31 00:00:00-05:00  78.26  78.62  76.760  76.830   7424208\n",
       "2015-03-31 00:00:00-04:00  79.37  80.20  79.180  79.310   4442740\n",
       "2015-06-30 00:00:00-04:00  71.85  72.00  71.240  71.350  10078502\n",
       "2015-09-30 00:00:00-04:00  70.77  71.05  70.320  70.940   9270143\n",
       "2015-12-31 00:00:00-05:00  75.76  75.85  74.980  75.080   6485959\n",
       "2016-03-31 00:00:00-04:00  77.33  77.96  77.260  77.870   4819828\n",
       "2016-06-30 00:00:00-04:00  81.60  82.35  81.030  82.330   8681498\n",
       "2016-09-30 00:00:00-04:00  81.51  81.77  80.590  80.600   6888160\n",
       "2016-12-31 00:00:00-05:00  76.33  77.09  75.960  76.910   5173593\n",
       "2017-03-31 00:00:00-04:00  78.15  78.71  78.010  78.460   7888148\n",
       "2017-06-30 00:00:00-04:00  80.11  80.33  79.580  79.750   6282787\n",
       "2017-09-30 00:00:00-04:00  80.21  81.01  80.170  80.770   5595801"
      ]
     },
     "execution_count": 96,
     "metadata": {},
     "output_type": "execute_result"
    }
   ],
   "source": [
    "df_all"
   ]
  },
  {
   "cell_type": "code",
   "execution_count": 99,
   "metadata": {},
   "outputs": [],
   "source": [
    "df_all.index = df_all.index.date"
   ]
  },
  {
   "cell_type": "code",
   "execution_count": 100,
   "metadata": {},
   "outputs": [
    {
     "data": {
      "text/html": [
       "<div>\n",
       "<style scoped>\n",
       "    .dataframe tbody tr th:only-of-type {\n",
       "        vertical-align: middle;\n",
       "    }\n",
       "\n",
       "    .dataframe tbody tr th {\n",
       "        vertical-align: top;\n",
       "    }\n",
       "\n",
       "    .dataframe thead tr th {\n",
       "        text-align: left;\n",
       "    }\n",
       "</style>\n",
       "<table border=\"1\" class=\"dataframe\">\n",
       "  <thead>\n",
       "    <tr>\n",
       "      <th></th>\n",
       "      <th colspan=\"5\" halign=\"left\">IYR</th>\n",
       "    </tr>\n",
       "    <tr>\n",
       "      <th></th>\n",
       "      <th>open</th>\n",
       "      <th>high</th>\n",
       "      <th>low</th>\n",
       "      <th>close</th>\n",
       "      <th>volume</th>\n",
       "    </tr>\n",
       "  </thead>\n",
       "  <tbody>\n",
       "    <tr>\n",
       "      <th>2013-09-30</th>\n",
       "      <td>64.07</td>\n",
       "      <td>64.52</td>\n",
       "      <td>63.570</td>\n",
       "      <td>63.785</td>\n",
       "      <td>8713816</td>\n",
       "    </tr>\n",
       "    <tr>\n",
       "      <th>2013-12-31</th>\n",
       "      <td>63.29</td>\n",
       "      <td>63.52</td>\n",
       "      <td>62.990</td>\n",
       "      <td>63.090</td>\n",
       "      <td>6253472</td>\n",
       "    </tr>\n",
       "    <tr>\n",
       "      <th>2014-03-31</th>\n",
       "      <td>67.64</td>\n",
       "      <td>67.90</td>\n",
       "      <td>67.085</td>\n",
       "      <td>67.710</td>\n",
       "      <td>7223985</td>\n",
       "    </tr>\n",
       "    <tr>\n",
       "      <th>2014-06-30</th>\n",
       "      <td>71.90</td>\n",
       "      <td>72.07</td>\n",
       "      <td>71.320</td>\n",
       "      <td>71.810</td>\n",
       "      <td>5933976</td>\n",
       "    </tr>\n",
       "    <tr>\n",
       "      <th>2014-09-30</th>\n",
       "      <td>69.57</td>\n",
       "      <td>69.73</td>\n",
       "      <td>69.100</td>\n",
       "      <td>69.200</td>\n",
       "      <td>11410640</td>\n",
       "    </tr>\n",
       "    <tr>\n",
       "      <th>2014-12-31</th>\n",
       "      <td>78.26</td>\n",
       "      <td>78.62</td>\n",
       "      <td>76.760</td>\n",
       "      <td>76.830</td>\n",
       "      <td>7424208</td>\n",
       "    </tr>\n",
       "    <tr>\n",
       "      <th>2015-03-31</th>\n",
       "      <td>79.37</td>\n",
       "      <td>80.20</td>\n",
       "      <td>79.180</td>\n",
       "      <td>79.310</td>\n",
       "      <td>4442740</td>\n",
       "    </tr>\n",
       "    <tr>\n",
       "      <th>2015-06-30</th>\n",
       "      <td>71.85</td>\n",
       "      <td>72.00</td>\n",
       "      <td>71.240</td>\n",
       "      <td>71.350</td>\n",
       "      <td>10078502</td>\n",
       "    </tr>\n",
       "    <tr>\n",
       "      <th>2015-09-30</th>\n",
       "      <td>70.77</td>\n",
       "      <td>71.05</td>\n",
       "      <td>70.320</td>\n",
       "      <td>70.940</td>\n",
       "      <td>9270143</td>\n",
       "    </tr>\n",
       "    <tr>\n",
       "      <th>2015-12-31</th>\n",
       "      <td>75.76</td>\n",
       "      <td>75.85</td>\n",
       "      <td>74.980</td>\n",
       "      <td>75.080</td>\n",
       "      <td>6485959</td>\n",
       "    </tr>\n",
       "    <tr>\n",
       "      <th>2016-03-31</th>\n",
       "      <td>77.33</td>\n",
       "      <td>77.96</td>\n",
       "      <td>77.260</td>\n",
       "      <td>77.870</td>\n",
       "      <td>4819828</td>\n",
       "    </tr>\n",
       "    <tr>\n",
       "      <th>2016-06-30</th>\n",
       "      <td>81.60</td>\n",
       "      <td>82.35</td>\n",
       "      <td>81.030</td>\n",
       "      <td>82.330</td>\n",
       "      <td>8681498</td>\n",
       "    </tr>\n",
       "    <tr>\n",
       "      <th>2016-09-30</th>\n",
       "      <td>81.51</td>\n",
       "      <td>81.77</td>\n",
       "      <td>80.590</td>\n",
       "      <td>80.600</td>\n",
       "      <td>6888160</td>\n",
       "    </tr>\n",
       "    <tr>\n",
       "      <th>2016-12-31</th>\n",
       "      <td>76.33</td>\n",
       "      <td>77.09</td>\n",
       "      <td>75.960</td>\n",
       "      <td>76.910</td>\n",
       "      <td>5173593</td>\n",
       "    </tr>\n",
       "    <tr>\n",
       "      <th>2017-03-31</th>\n",
       "      <td>78.15</td>\n",
       "      <td>78.71</td>\n",
       "      <td>78.010</td>\n",
       "      <td>78.460</td>\n",
       "      <td>7888148</td>\n",
       "    </tr>\n",
       "    <tr>\n",
       "      <th>2017-06-30</th>\n",
       "      <td>80.11</td>\n",
       "      <td>80.33</td>\n",
       "      <td>79.580</td>\n",
       "      <td>79.750</td>\n",
       "      <td>6282787</td>\n",
       "    </tr>\n",
       "    <tr>\n",
       "      <th>2017-09-30</th>\n",
       "      <td>80.21</td>\n",
       "      <td>81.01</td>\n",
       "      <td>80.170</td>\n",
       "      <td>80.770</td>\n",
       "      <td>5595801</td>\n",
       "    </tr>\n",
       "  </tbody>\n",
       "</table>\n",
       "</div>"
      ],
      "text/plain": [
       "              IYR                                 \n",
       "             open   high     low   close    volume\n",
       "2013-09-30  64.07  64.52  63.570  63.785   8713816\n",
       "2013-12-31  63.29  63.52  62.990  63.090   6253472\n",
       "2014-03-31  67.64  67.90  67.085  67.710   7223985\n",
       "2014-06-30  71.90  72.07  71.320  71.810   5933976\n",
       "2014-09-30  69.57  69.73  69.100  69.200  11410640\n",
       "2014-12-31  78.26  78.62  76.760  76.830   7424208\n",
       "2015-03-31  79.37  80.20  79.180  79.310   4442740\n",
       "2015-06-30  71.85  72.00  71.240  71.350  10078502\n",
       "2015-09-30  70.77  71.05  70.320  70.940   9270143\n",
       "2015-12-31  75.76  75.85  74.980  75.080   6485959\n",
       "2016-03-31  77.33  77.96  77.260  77.870   4819828\n",
       "2016-06-30  81.60  82.35  81.030  82.330   8681498\n",
       "2016-09-30  81.51  81.77  80.590  80.600   6888160\n",
       "2016-12-31  76.33  77.09  75.960  76.910   5173593\n",
       "2017-03-31  78.15  78.71  78.010  78.460   7888148\n",
       "2017-06-30  80.11  80.33  79.580  79.750   6282787\n",
       "2017-09-30  80.21  81.01  80.170  80.770   5595801"
      ]
     },
     "execution_count": 100,
     "metadata": {},
     "output_type": "execute_result"
    }
   ],
   "source": [
    "df_all"
   ]
  },
  {
   "cell_type": "code",
   "execution_count": 103,
   "metadata": {},
   "outputs": [
    {
     "data": {
      "text/plain": [
       "(17, 5)"
      ]
     },
     "execution_count": 103,
     "metadata": {},
     "output_type": "execute_result"
    }
   ],
   "source": [
    "df_all.shape"
   ]
  },
  {
   "cell_type": "code",
   "execution_count": 101,
   "metadata": {},
   "outputs": [
    {
     "data": {
      "text/plain": [
       "(17, 9)"
      ]
     },
     "execution_count": 101,
     "metadata": {},
     "output_type": "execute_result"
    }
   ],
   "source": [
    "# Load features in DF\n",
    "feat = pd.read_csv('features.csv',index_col=0, parse_dates=True, infer_datetime_format=True)\n",
    "feat = feat.loc[df_all.index[0]:df_all.index[-1]]\n",
    "feat.shape"
   ]
  },
  {
   "cell_type": "code",
   "execution_count": 102,
   "metadata": {},
   "outputs": [
    {
     "data": {
      "text/html": [
       "<div>\n",
       "<style scoped>\n",
       "    .dataframe tbody tr th:only-of-type {\n",
       "        vertical-align: middle;\n",
       "    }\n",
       "\n",
       "    .dataframe tbody tr th {\n",
       "        vertical-align: top;\n",
       "    }\n",
       "\n",
       "    .dataframe thead th {\n",
       "        text-align: right;\n",
       "    }\n",
       "</style>\n",
       "<table border=\"1\" class=\"dataframe\">\n",
       "  <thead>\n",
       "    <tr style=\"text-align: right;\">\n",
       "      <th></th>\n",
       "      <th>Homeownership Rate in the United States</th>\n",
       "      <th>Monthly Supply of Houses in the United States</th>\n",
       "      <th>US Population data</th>\n",
       "      <th>Median Sales Price of Houses Sold</th>\n",
       "      <th>GDP</th>\n",
       "      <th>Natural Rate of Unemployment</th>\n",
       "      <th>Consumer Price Index</th>\n",
       "      <th>House Price Index</th>\n",
       "      <th>10-Year Treasury</th>\n",
       "    </tr>\n",
       "  </thead>\n",
       "  <tbody>\n",
       "    <tr>\n",
       "      <th>2013-09-30</th>\n",
       "      <td>65.3</td>\n",
       "      <td>5.466667</td>\n",
       "      <td>316626.000000</td>\n",
       "      <td>264800.0</td>\n",
       "      <td>16848.748</td>\n",
       "      <td>5.265987</td>\n",
       "      <td>234.305333</td>\n",
       "      <td>326.46</td>\n",
       "      <td>2.340625</td>\n",
       "    </tr>\n",
       "    <tr>\n",
       "      <th>2013-12-31</th>\n",
       "      <td>65.2</td>\n",
       "      <td>5.033333</td>\n",
       "      <td>317244.000000</td>\n",
       "      <td>273600.0</td>\n",
       "      <td>17083.137</td>\n",
       "      <td>5.150994</td>\n",
       "      <td>235.346333</td>\n",
       "      <td>329.13</td>\n",
       "      <td>2.416935</td>\n",
       "    </tr>\n",
       "    <tr>\n",
       "      <th>2014-03-31</th>\n",
       "      <td>64.8</td>\n",
       "      <td>5.333333</td>\n",
       "      <td>317760.000000</td>\n",
       "      <td>275200.0</td>\n",
       "      <td>17104.555</td>\n",
       "      <td>5.045110</td>\n",
       "      <td>236.257000</td>\n",
       "      <td>331.94</td>\n",
       "      <td>2.390656</td>\n",
       "    </tr>\n",
       "    <tr>\n",
       "      <th>2014-06-30</th>\n",
       "      <td>64.7</td>\n",
       "      <td>5.533333</td>\n",
       "      <td>318287.000000</td>\n",
       "      <td>288000.0</td>\n",
       "      <td>17432.909</td>\n",
       "      <td>4.956620</td>\n",
       "      <td>237.479333</td>\n",
       "      <td>338.37</td>\n",
       "      <td>2.201429</td>\n",
       "    </tr>\n",
       "    <tr>\n",
       "      <th>2014-09-30</th>\n",
       "      <td>64.4</td>\n",
       "      <td>5.666667</td>\n",
       "      <td>318920.666667</td>\n",
       "      <td>281000.0</td>\n",
       "      <td>17721.657</td>\n",
       "      <td>4.887757</td>\n",
       "      <td>238.462000</td>\n",
       "      <td>343.25</td>\n",
       "      <td>1.984531</td>\n",
       "    </tr>\n",
       "    <tr>\n",
       "      <th>2014-12-31</th>\n",
       "      <td>64.0</td>\n",
       "      <td>5.366667</td>\n",
       "      <td>319556.666667</td>\n",
       "      <td>298900.0</td>\n",
       "      <td>17849.912</td>\n",
       "      <td>4.838887</td>\n",
       "      <td>239.411000</td>\n",
       "      <td>346.08</td>\n",
       "      <td>1.739355</td>\n",
       "    </tr>\n",
       "    <tr>\n",
       "      <th>2015-03-31</th>\n",
       "      <td>63.7</td>\n",
       "      <td>4.800000</td>\n",
       "      <td>320057.333333</td>\n",
       "      <td>289200.0</td>\n",
       "      <td>18003.399</td>\n",
       "      <td>4.810394</td>\n",
       "      <td>240.246000</td>\n",
       "      <td>349.81</td>\n",
       "      <td>1.364262</td>\n",
       "    </tr>\n",
       "    <tr>\n",
       "      <th>2015-06-30</th>\n",
       "      <td>63.4</td>\n",
       "      <td>5.100000</td>\n",
       "      <td>320577.666667</td>\n",
       "      <td>289100.0</td>\n",
       "      <td>18223.577</td>\n",
       "      <td>4.782687</td>\n",
       "      <td>241.699333</td>\n",
       "      <td>355.57</td>\n",
       "      <td>1.551719</td>\n",
       "    </tr>\n",
       "    <tr>\n",
       "      <th>2015-09-30</th>\n",
       "      <td>63.7</td>\n",
       "      <td>5.366667</td>\n",
       "      <td>321205.000000</td>\n",
       "      <td>295800.0</td>\n",
       "      <td>18347.425</td>\n",
       "      <td>4.756195</td>\n",
       "      <td>242.899333</td>\n",
       "      <td>360.74</td>\n",
       "      <td>1.530625</td>\n",
       "    </tr>\n",
       "    <tr>\n",
       "      <th>2015-12-31</th>\n",
       "      <td>63.8</td>\n",
       "      <td>5.400000</td>\n",
       "      <td>321831.666667</td>\n",
       "      <td>302500.0</td>\n",
       "      <td>18378.803</td>\n",
       "      <td>4.731372</td>\n",
       "      <td>244.185333</td>\n",
       "      <td>363.72</td>\n",
       "      <td>1.352258</td>\n",
       "    </tr>\n",
       "    <tr>\n",
       "      <th>2016-03-31</th>\n",
       "      <td>63.5</td>\n",
       "      <td>5.533333</td>\n",
       "      <td>322354.000000</td>\n",
       "      <td>299800.0</td>\n",
       "      <td>18470.156</td>\n",
       "      <td>4.708691</td>\n",
       "      <td>245.459333</td>\n",
       "      <td>367.10</td>\n",
       "      <td>1.078033</td>\n",
       "    </tr>\n",
       "    <tr>\n",
       "      <th>2016-06-30</th>\n",
       "      <td>62.9</td>\n",
       "      <td>5.133333</td>\n",
       "      <td>322871.000000</td>\n",
       "      <td>306000.0</td>\n",
       "      <td>18656.207</td>\n",
       "      <td>4.688638</td>\n",
       "      <td>247.076000</td>\n",
       "      <td>374.00</td>\n",
       "      <td>0.978906</td>\n",
       "    </tr>\n",
       "    <tr>\n",
       "      <th>2016-09-30</th>\n",
       "      <td>63.5</td>\n",
       "      <td>4.900000</td>\n",
       "      <td>323472.666667</td>\n",
       "      <td>303800.0</td>\n",
       "      <td>18821.359</td>\n",
       "      <td>4.671323</td>\n",
       "      <td>248.364667</td>\n",
       "      <td>380.67</td>\n",
       "      <td>0.836250</td>\n",
       "    </tr>\n",
       "    <tr>\n",
       "      <th>2016-12-31</th>\n",
       "      <td>63.7</td>\n",
       "      <td>5.266667</td>\n",
       "      <td>324048.000000</td>\n",
       "      <td>310900.0</td>\n",
       "      <td>19032.580</td>\n",
       "      <td>4.656598</td>\n",
       "      <td>249.514333</td>\n",
       "      <td>383.71</td>\n",
       "      <td>1.129180</td>\n",
       "    </tr>\n",
       "    <tr>\n",
       "      <th>2017-03-31</th>\n",
       "      <td>63.6</td>\n",
       "      <td>5.133333</td>\n",
       "      <td>324496.000000</td>\n",
       "      <td>313100.0</td>\n",
       "      <td>19237.435</td>\n",
       "      <td>4.644163</td>\n",
       "      <td>250.733667</td>\n",
       "      <td>386.70</td>\n",
       "      <td>1.202258</td>\n",
       "    </tr>\n",
       "    <tr>\n",
       "      <th>2017-06-30</th>\n",
       "      <td>63.7</td>\n",
       "      <td>5.300000</td>\n",
       "      <td>324948.000000</td>\n",
       "      <td>318200.0</td>\n",
       "      <td>19379.232</td>\n",
       "      <td>4.633630</td>\n",
       "      <td>251.520667</td>\n",
       "      <td>395.56</td>\n",
       "      <td>0.963333</td>\n",
       "    </tr>\n",
       "    <tr>\n",
       "      <th>2017-09-30</th>\n",
       "      <td>63.9</td>\n",
       "      <td>5.900000</td>\n",
       "      <td>325475.000000</td>\n",
       "      <td>320500.0</td>\n",
       "      <td>19617.288</td>\n",
       "      <td>4.624581</td>\n",
       "      <td>252.561000</td>\n",
       "      <td>401.76</td>\n",
       "      <td>0.878730</td>\n",
       "    </tr>\n",
       "  </tbody>\n",
       "</table>\n",
       "</div>"
      ],
      "text/plain": [
       "            Homeownership Rate in the United States  \\\n",
       "2013-09-30                                     65.3   \n",
       "2013-12-31                                     65.2   \n",
       "2014-03-31                                     64.8   \n",
       "2014-06-30                                     64.7   \n",
       "2014-09-30                                     64.4   \n",
       "2014-12-31                                     64.0   \n",
       "2015-03-31                                     63.7   \n",
       "2015-06-30                                     63.4   \n",
       "2015-09-30                                     63.7   \n",
       "2015-12-31                                     63.8   \n",
       "2016-03-31                                     63.5   \n",
       "2016-06-30                                     62.9   \n",
       "2016-09-30                                     63.5   \n",
       "2016-12-31                                     63.7   \n",
       "2017-03-31                                     63.6   \n",
       "2017-06-30                                     63.7   \n",
       "2017-09-30                                     63.9   \n",
       "\n",
       "            Monthly Supply of Houses in the United States  US Population data  \\\n",
       "2013-09-30                                       5.466667       316626.000000   \n",
       "2013-12-31                                       5.033333       317244.000000   \n",
       "2014-03-31                                       5.333333       317760.000000   \n",
       "2014-06-30                                       5.533333       318287.000000   \n",
       "2014-09-30                                       5.666667       318920.666667   \n",
       "2014-12-31                                       5.366667       319556.666667   \n",
       "2015-03-31                                       4.800000       320057.333333   \n",
       "2015-06-30                                       5.100000       320577.666667   \n",
       "2015-09-30                                       5.366667       321205.000000   \n",
       "2015-12-31                                       5.400000       321831.666667   \n",
       "2016-03-31                                       5.533333       322354.000000   \n",
       "2016-06-30                                       5.133333       322871.000000   \n",
       "2016-09-30                                       4.900000       323472.666667   \n",
       "2016-12-31                                       5.266667       324048.000000   \n",
       "2017-03-31                                       5.133333       324496.000000   \n",
       "2017-06-30                                       5.300000       324948.000000   \n",
       "2017-09-30                                       5.900000       325475.000000   \n",
       "\n",
       "            Median Sales Price of Houses Sold        GDP  \\\n",
       "2013-09-30                           264800.0  16848.748   \n",
       "2013-12-31                           273600.0  17083.137   \n",
       "2014-03-31                           275200.0  17104.555   \n",
       "2014-06-30                           288000.0  17432.909   \n",
       "2014-09-30                           281000.0  17721.657   \n",
       "2014-12-31                           298900.0  17849.912   \n",
       "2015-03-31                           289200.0  18003.399   \n",
       "2015-06-30                           289100.0  18223.577   \n",
       "2015-09-30                           295800.0  18347.425   \n",
       "2015-12-31                           302500.0  18378.803   \n",
       "2016-03-31                           299800.0  18470.156   \n",
       "2016-06-30                           306000.0  18656.207   \n",
       "2016-09-30                           303800.0  18821.359   \n",
       "2016-12-31                           310900.0  19032.580   \n",
       "2017-03-31                           313100.0  19237.435   \n",
       "2017-06-30                           318200.0  19379.232   \n",
       "2017-09-30                           320500.0  19617.288   \n",
       "\n",
       "            Natural Rate of Unemployment  Consumer Price Index  \\\n",
       "2013-09-30                      5.265987            234.305333   \n",
       "2013-12-31                      5.150994            235.346333   \n",
       "2014-03-31                      5.045110            236.257000   \n",
       "2014-06-30                      4.956620            237.479333   \n",
       "2014-09-30                      4.887757            238.462000   \n",
       "2014-12-31                      4.838887            239.411000   \n",
       "2015-03-31                      4.810394            240.246000   \n",
       "2015-06-30                      4.782687            241.699333   \n",
       "2015-09-30                      4.756195            242.899333   \n",
       "2015-12-31                      4.731372            244.185333   \n",
       "2016-03-31                      4.708691            245.459333   \n",
       "2016-06-30                      4.688638            247.076000   \n",
       "2016-09-30                      4.671323            248.364667   \n",
       "2016-12-31                      4.656598            249.514333   \n",
       "2017-03-31                      4.644163            250.733667   \n",
       "2017-06-30                      4.633630            251.520667   \n",
       "2017-09-30                      4.624581            252.561000   \n",
       "\n",
       "            House Price Index  10-Year Treasury  \n",
       "2013-09-30             326.46          2.340625  \n",
       "2013-12-31             329.13          2.416935  \n",
       "2014-03-31             331.94          2.390656  \n",
       "2014-06-30             338.37          2.201429  \n",
       "2014-09-30             343.25          1.984531  \n",
       "2014-12-31             346.08          1.739355  \n",
       "2015-03-31             349.81          1.364262  \n",
       "2015-06-30             355.57          1.551719  \n",
       "2015-09-30             360.74          1.530625  \n",
       "2015-12-31             363.72          1.352258  \n",
       "2016-03-31             367.10          1.078033  \n",
       "2016-06-30             374.00          0.978906  \n",
       "2016-09-30             380.67          0.836250  \n",
       "2016-12-31             383.71          1.129180  \n",
       "2017-03-31             386.70          1.202258  \n",
       "2017-06-30             395.56          0.963333  \n",
       "2017-09-30             401.76          0.878730  "
      ]
     },
     "execution_count": 102,
     "metadata": {},
     "output_type": "execute_result"
    }
   ],
   "source": [
    "feat"
   ]
  },
  {
   "cell_type": "code",
   "execution_count": 104,
   "metadata": {},
   "outputs": [],
   "source": [
    "# Create features (X) taking the diff in CS-index\n",
    "X_new = feat.diff().dropna()"
   ]
  },
  {
   "cell_type": "code",
   "execution_count": 121,
   "metadata": {},
   "outputs": [
    {
     "data": {
      "text/plain": [
       "array([5.94803677, 2.99107815, 6.7742004 , 4.44133541, 2.98027425,\n",
       "       3.50138607, 2.78119905, 3.00293186, 1.48089955, 1.51898726,\n",
       "       2.73673235, 4.40188295, 2.96142483, 3.30416636, 4.6790632 ,\n",
       "       3.91534713])"
      ]
     },
     "execution_count": 121,
     "metadata": {},
     "output_type": "execute_result"
    }
   ],
   "source": [
    "# Make predictions - this is the predictions for CS-Index\n",
    "pred_new = model.predict(X_new)\n",
    "pred_new = pred_new.reshape(-1)\n",
    "pred_new"
   ]
  },
  {
   "cell_type": "code",
   "execution_count": 122,
   "metadata": {},
   "outputs": [
    {
     "data": {
      "text/plain": [
       "2013-12-31   -0.010896\n",
       "2014-03-31    0.073229\n",
       "2014-06-30    0.060552\n",
       "2014-09-30   -0.036346\n",
       "2014-12-31    0.110260\n",
       "2015-03-31    0.032279\n",
       "2015-06-30   -0.100366\n",
       "2015-09-30   -0.005746\n",
       "2015-12-31    0.058359\n",
       "2016-03-31    0.037160\n",
       "2016-06-30    0.057275\n",
       "2016-09-30   -0.021013\n",
       "2016-12-31   -0.045782\n",
       "2017-03-31    0.020153\n",
       "2017-06-30    0.016441\n",
       "2017-09-30    0.012790\n",
       "Name: close, dtype: float64"
      ]
     },
     "execution_count": 122,
     "metadata": {},
     "output_type": "execute_result"
    }
   ],
   "source": [
    "# Comparing Predictions to pct change,\n",
    "IYR_pct_change = df_all['IYR']['close'].pct_change().dropna()\n",
    "IYR_pct_change"
   ]
  },
  {
   "cell_type": "code",
   "execution_count": 123,
   "metadata": {},
   "outputs": [
    {
     "data": {
      "text/plain": [
       "array([ True, False,  True,  True, False,  True, False,  True, False,\n",
       "       False, False,  True, False,  True,  True,  True])"
      ]
     },
     "execution_count": 123,
     "metadata": {},
     "output_type": "execute_result"
    }
   ],
   "source": [
    "pred_new>thres"
   ]
  },
  {
   "cell_type": "code",
   "execution_count": 129,
   "metadata": {
    "tags": []
   },
   "outputs": [
    {
     "data": {
      "text/plain": [
       "array([-0.01089598,  0.06055236])"
      ]
     },
     "execution_count": 129,
     "metadata": {},
     "output_type": "execute_result"
    }
   ],
   "source": [
    "# Trading strategy\n",
    "# Decision: If CS-Index rises by 5 points or more, we hold IYR for that quarter\n",
    "\n",
    "thres = 5\n",
    "# Returns we get for the times we hold. Held for a total of 2 periods out of the 17.\n",
    "IYR_pct_change.values[pred_new>thres]"
   ]
  },
  {
   "cell_type": "code",
   "execution_count": 130,
   "metadata": {},
   "outputs": [
    {
     "data": {
      "text/plain": [
       "0.024828188477975244"
      ]
     },
     "execution_count": 130,
     "metadata": {},
     "output_type": "execute_result"
    }
   ],
   "source": [
    "#To find the mean on average\n",
    "np.mean(IYR_pct_change.values[pred_new>thres])"
   ]
  },
  {
   "cell_type": "code",
   "execution_count": 131,
   "metadata": {},
   "outputs": [
    {
     "data": {
      "text/plain": [
       "0.01614694546369963"
      ]
     },
     "execution_count": 131,
     "metadata": {},
     "output_type": "execute_result"
    }
   ],
   "source": [
    "# Compared to mean of IYR ETF\n",
    "IYR_pct_change.mean()"
   ]
  },
  {
   "cell_type": "code",
   "execution_count": null,
   "metadata": {},
   "outputs": [],
   "source": []
  }
 ],
 "metadata": {
  "kernelspec": {
   "display_name": "Python 3",
   "language": "python",
   "name": "python3"
  },
  "language_info": {
   "codemirror_mode": {
    "name": "ipython",
    "version": 3
   },
   "file_extension": ".py",
   "mimetype": "text/x-python",
   "name": "python",
   "nbconvert_exporter": "python",
   "pygments_lexer": "ipython3",
   "version": "3.9.2"
  }
 },
 "nbformat": 4,
 "nbformat_minor": 4
}
