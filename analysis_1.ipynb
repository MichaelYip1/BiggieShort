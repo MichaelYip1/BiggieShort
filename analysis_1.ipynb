{
 "cells": [
  {
   "cell_type": "markdown",
   "id": "b2ae8bc7",
   "metadata": {},
   "source": [
    "# Data Preparation"
   ]
  },
  {
   "cell_type": "markdown",
   "id": "4be7daf0",
   "metadata": {},
   "source": [
    "### The Target - ALPACA IYR TICKER DATA CORRELATION TO CASE-SCHILLER HOUSE PRICE INDEX"
   ]
  },
  {
   "cell_type": "code",
   "execution_count": 1,
   "id": "4ea9ac08",
   "metadata": {
    "tags": []
   },
   "outputs": [],
   "source": [
    "# Initial Imports\n",
    "import os\n",
    "import requests\n",
    "import pandas as pd\n",
    "from dotenv import load_dotenv\n",
    "import alpaca_trade_api as tradeapi\n",
    "%matplotlib inline\n",
    "import json\n",
    "import datetime as dt"
   ]
  },
  {
   "cell_type": "code",
   "execution_count": 2,
   "id": "257720f9",
   "metadata": {},
   "outputs": [
    {
     "data": {
      "text/plain": [
       "True"
      ]
     },
     "execution_count": 2,
     "metadata": {},
     "output_type": "execute_result"
    }
   ],
   "source": [
    "# Load .env enviroment variables\n",
    "load_dotenv()"
   ]
  },
  {
   "cell_type": "code",
   "execution_count": 3,
   "id": "38e36371",
   "metadata": {},
   "outputs": [],
   "source": [
    "# Set Alpaca API key and secret\n",
    "alpaca_api_key = os.getenv(\"ALPACA_API_KEY\")\n",
    "alpaca_secret_key = os.getenv(\"ALPACA_SECRET_KEY\")\n",
    "\n",
    "#Create the Alpaca API object\n",
    "api = tradeapi.REST(\n",
    "    alpaca_api_key,\n",
    "    alpaca_secret_key,\n",
    "    api_version = \"v2\"\n",
    ")"
   ]
  },
  {
   "cell_type": "code",
   "execution_count": 4,
   "id": "882f1867",
   "metadata": {},
   "outputs": [
    {
     "data": {
      "text/html": [
       "<div>\n",
       "<style scoped>\n",
       "    .dataframe tbody tr th:only-of-type {\n",
       "        vertical-align: middle;\n",
       "    }\n",
       "\n",
       "    .dataframe tbody tr th {\n",
       "        vertical-align: top;\n",
       "    }\n",
       "\n",
       "    .dataframe thead tr th {\n",
       "        text-align: left;\n",
       "    }\n",
       "\n",
       "    .dataframe thead tr:last-of-type th {\n",
       "        text-align: right;\n",
       "    }\n",
       "</style>\n",
       "<table border=\"1\" class=\"dataframe\">\n",
       "  <thead>\n",
       "    <tr>\n",
       "      <th></th>\n",
       "      <th colspan=\"5\" halign=\"left\">IYR</th>\n",
       "    </tr>\n",
       "    <tr>\n",
       "      <th></th>\n",
       "      <th>open</th>\n",
       "      <th>high</th>\n",
       "      <th>low</th>\n",
       "      <th>close</th>\n",
       "      <th>volume</th>\n",
       "    </tr>\n",
       "    <tr>\n",
       "      <th>time</th>\n",
       "      <th></th>\n",
       "      <th></th>\n",
       "      <th></th>\n",
       "      <th></th>\n",
       "      <th></th>\n",
       "    </tr>\n",
       "  </thead>\n",
       "  <tbody>\n",
       "    <tr>\n",
       "      <th>2016-05-16 00:00:00-04:00</th>\n",
       "      <td>78.56</td>\n",
       "      <td>79.52</td>\n",
       "      <td>78.4500</td>\n",
       "      <td>79.30</td>\n",
       "      <td>5131924</td>\n",
       "    </tr>\n",
       "    <tr>\n",
       "      <th>2016-05-17 00:00:00-04:00</th>\n",
       "      <td>78.97</td>\n",
       "      <td>79.03</td>\n",
       "      <td>77.6000</td>\n",
       "      <td>78.03</td>\n",
       "      <td>8676173</td>\n",
       "    </tr>\n",
       "    <tr>\n",
       "      <th>2016-05-18 00:00:00-04:00</th>\n",
       "      <td>77.65</td>\n",
       "      <td>77.85</td>\n",
       "      <td>76.0707</td>\n",
       "      <td>76.97</td>\n",
       "      <td>11817850</td>\n",
       "    </tr>\n",
       "    <tr>\n",
       "      <th>2016-05-19 00:00:00-04:00</th>\n",
       "      <td>76.47</td>\n",
       "      <td>76.56</td>\n",
       "      <td>75.7300</td>\n",
       "      <td>76.15</td>\n",
       "      <td>8846700</td>\n",
       "    </tr>\n",
       "    <tr>\n",
       "      <th>2016-05-20 00:00:00-04:00</th>\n",
       "      <td>76.10</td>\n",
       "      <td>76.84</td>\n",
       "      <td>76.1000</td>\n",
       "      <td>76.75</td>\n",
       "      <td>6980490</td>\n",
       "    </tr>\n",
       "    <tr>\n",
       "      <th>...</th>\n",
       "      <td>...</td>\n",
       "      <td>...</td>\n",
       "      <td>...</td>\n",
       "      <td>...</td>\n",
       "      <td>...</td>\n",
       "    </tr>\n",
       "    <tr>\n",
       "      <th>2020-04-29 00:00:00-04:00</th>\n",
       "      <td>77.35</td>\n",
       "      <td>77.85</td>\n",
       "      <td>75.7589</td>\n",
       "      <td>76.92</td>\n",
       "      <td>13755872</td>\n",
       "    </tr>\n",
       "    <tr>\n",
       "      <th>2020-04-30 00:00:00-04:00</th>\n",
       "      <td>75.68</td>\n",
       "      <td>76.30</td>\n",
       "      <td>74.7900</td>\n",
       "      <td>76.04</td>\n",
       "      <td>16334704</td>\n",
       "    </tr>\n",
       "    <tr>\n",
       "      <th>2020-05-01 00:00:00-04:00</th>\n",
       "      <td>74.41</td>\n",
       "      <td>74.42</td>\n",
       "      <td>72.7800</td>\n",
       "      <td>73.46</td>\n",
       "      <td>10784604</td>\n",
       "    </tr>\n",
       "    <tr>\n",
       "      <th>2020-05-04 00:00:00-04:00</th>\n",
       "      <td>72.66</td>\n",
       "      <td>73.34</td>\n",
       "      <td>71.5900</td>\n",
       "      <td>73.22</td>\n",
       "      <td>9565598</td>\n",
       "    </tr>\n",
       "    <tr>\n",
       "      <th>2020-05-05 00:00:00-04:00</th>\n",
       "      <td>73.87</td>\n",
       "      <td>74.76</td>\n",
       "      <td>73.5500</td>\n",
       "      <td>73.65</td>\n",
       "      <td>10374452</td>\n",
       "    </tr>\n",
       "  </tbody>\n",
       "</table>\n",
       "<p>1000 rows × 5 columns</p>\n",
       "</div>"
      ],
      "text/plain": [
       "                             IYR                                 \n",
       "                            open   high      low  close    volume\n",
       "time                                                             \n",
       "2016-05-16 00:00:00-04:00  78.56  79.52  78.4500  79.30   5131924\n",
       "2016-05-17 00:00:00-04:00  78.97  79.03  77.6000  78.03   8676173\n",
       "2016-05-18 00:00:00-04:00  77.65  77.85  76.0707  76.97  11817850\n",
       "2016-05-19 00:00:00-04:00  76.47  76.56  75.7300  76.15   8846700\n",
       "2016-05-20 00:00:00-04:00  76.10  76.84  76.1000  76.75   6980490\n",
       "...                          ...    ...      ...    ...       ...\n",
       "2020-04-29 00:00:00-04:00  77.35  77.85  75.7589  76.92  13755872\n",
       "2020-04-30 00:00:00-04:00  75.68  76.30  74.7900  76.04  16334704\n",
       "2020-05-01 00:00:00-04:00  74.41  74.42  72.7800  73.46  10784604\n",
       "2020-05-04 00:00:00-04:00  72.66  73.34  71.5900  73.22   9565598\n",
       "2020-05-05 00:00:00-04:00  73.87  74.76  73.5500  73.65  10374452\n",
       "\n",
       "[1000 rows x 5 columns]"
      ]
     },
     "execution_count": 4,
     "metadata": {},
     "output_type": "execute_result"
    }
   ],
   "source": [
    "# Format current date as ISO format\n",
    "start_date = pd.Timestamp(\"2010-05-05\", tz=\"America/New_York\").isoformat()\n",
    "end_date = pd.Timestamp(\"2020-05-05\", tz=\"America/New_York\").isoformat()\n",
    "\n",
    "# Set the tickers\n",
    "tickers = [\"IYR\"]\n",
    "\n",
    "# Set timeframe to '1D' for Alpaca API\n",
    "timeframe = \"1D\"\n",
    "\n",
    "# Get current closing prices for IYR\n",
    "df = api.get_barset(\n",
    "    tickers,\n",
    "    timeframe,\n",
    "    start=start_date,\n",
    "    end=end_date,\n",
    "    limit=1000,\n",
    ").df\n",
    "\n",
    "# Preview DataFrame\n",
    "df =pd.DataFrame(df,index=df.index)\n",
    "df.index = pd.to_datetime(df.index)\n",
    "df"
   ]
  },
  {
   "cell_type": "code",
   "execution_count": 5,
   "id": "6459fab2",
   "metadata": {},
   "outputs": [
    {
     "data": {
      "text/html": [
       "<div>\n",
       "<style scoped>\n",
       "    .dataframe tbody tr th:only-of-type {\n",
       "        vertical-align: middle;\n",
       "    }\n",
       "\n",
       "    .dataframe tbody tr th {\n",
       "        vertical-align: top;\n",
       "    }\n",
       "\n",
       "    .dataframe thead th {\n",
       "        text-align: right;\n",
       "    }\n",
       "</style>\n",
       "<table border=\"1\" class=\"dataframe\">\n",
       "  <thead>\n",
       "    <tr style=\"text-align: right;\">\n",
       "      <th></th>\n",
       "      <th>close</th>\n",
       "    </tr>\n",
       "  </thead>\n",
       "  <tbody>\n",
       "    <tr>\n",
       "      <th>2016-06-30</th>\n",
       "      <td>78.846061</td>\n",
       "    </tr>\n",
       "    <tr>\n",
       "      <th>2016-09-30</th>\n",
       "      <td>82.793553</td>\n",
       "    </tr>\n",
       "    <tr>\n",
       "      <th>2016-12-31</th>\n",
       "      <td>75.987303</td>\n",
       "    </tr>\n",
       "    <tr>\n",
       "      <th>2017-03-31</th>\n",
       "      <td>78.045968</td>\n",
       "    </tr>\n",
       "    <tr>\n",
       "      <th>2017-06-30</th>\n",
       "      <td>79.547540</td>\n",
       "    </tr>\n",
       "  </tbody>\n",
       "</table>\n",
       "</div>"
      ],
      "text/plain": [
       "                close\n",
       "2016-06-30  78.846061\n",
       "2016-09-30  82.793553\n",
       "2016-12-31  75.987303\n",
       "2017-03-31  78.045968\n",
       "2017-06-30  79.547540"
      ]
     },
     "execution_count": 5,
     "metadata": {},
     "output_type": "execute_result"
    }
   ],
   "source": [
    "IYR_df = df['IYR']['close']\n",
    "IYR_df =pd.DataFrame(IYR_df,index=IYR_df.index)\n",
    "IYR_df.index = pd.to_datetime(IYR_df.index)\n",
    "IYR_df = IYR_df.resample('Q').mean()\n",
    "IYR_df.index=IYR_df.index.date\n",
    "IYR_df.head()"
   ]
  },
  {
   "cell_type": "markdown",
   "id": "939d83e5",
   "metadata": {},
   "source": [
    "### CASE-SCHILLER HOUSE INDEX DATA via FRED"
   ]
  },
  {
   "cell_type": "code",
   "execution_count": 6,
   "id": "c5f8628c",
   "metadata": {},
   "outputs": [
    {
     "name": "stdout",
     "output_type": "stream",
     "text": [
      "Requirement already satisfied: fredapi in /Users/mikhararamsing/opt/anaconda3/envs/dev/lib/python3.9/site-packages (0.4.3)\n",
      "Requirement already satisfied: pandas in /Users/mikhararamsing/opt/anaconda3/envs/dev/lib/python3.9/site-packages (from fredapi) (1.2.4)\n",
      "Requirement already satisfied: python-dateutil>=2.7.3 in /Users/mikhararamsing/opt/anaconda3/envs/dev/lib/python3.9/site-packages (from pandas->fredapi) (2.8.1)\n",
      "Requirement already satisfied: pytz>=2017.3 in /Users/mikhararamsing/opt/anaconda3/envs/dev/lib/python3.9/site-packages (from pandas->fredapi) (2021.1)\n",
      "Requirement already satisfied: numpy>=1.16.5 in /Users/mikhararamsing/opt/anaconda3/envs/dev/lib/python3.9/site-packages (from pandas->fredapi) (1.19.5)\n",
      "Requirement already satisfied: six>=1.5 in /Users/mikhararamsing/opt/anaconda3/envs/dev/lib/python3.9/site-packages (from python-dateutil>=2.7.3->pandas->fredapi) (1.15.0)\n"
     ]
    }
   ],
   "source": [
    "!pip install fredapi"
   ]
  },
  {
   "cell_type": "code",
   "execution_count": 7,
   "id": "4b840106",
   "metadata": {
    "tags": []
   },
   "outputs": [],
   "source": [
    "# initial imports\n",
    "from fredapi import Fred"
   ]
  },
  {
   "cell_type": "code",
   "execution_count": 8,
   "id": "47e1ecda",
   "metadata": {},
   "outputs": [
    {
     "data": {
      "text/plain": [
       "True"
      ]
     },
     "execution_count": 8,
     "metadata": {},
     "output_type": "execute_result"
    }
   ],
   "source": [
    "load_dotenv()"
   ]
  },
  {
   "cell_type": "code",
   "execution_count": 9,
   "id": "d8f49672",
   "metadata": {},
   "outputs": [],
   "source": [
    "fred_api = \"0316b214fd1344467d844a5fc2236bf0\"\n",
    "#os.getenv('FRED_API_KEY')\n",
    "fred = Fred(api_key=fred_api)"
   ]
  },
  {
   "cell_type": "code",
   "execution_count": 10,
   "id": "35755d6c",
   "metadata": {},
   "outputs": [
    {
     "name": "stdout",
     "output_type": "stream",
     "text": [
      "0316b214fd1344467d844a5fc2236bf0\n"
     ]
    }
   ],
   "source": [
    "print (fred_api)"
   ]
  },
  {
   "cell_type": "code",
   "execution_count": null,
   "id": "1ebf5f07",
   "metadata": {},
   "outputs": [],
   "source": [
    "\n"
   ]
  },
  {
   "cell_type": "code",
   "execution_count": 22,
   "id": "ad1a1363",
   "metadata": {
    "tags": []
   },
   "outputs": [],
   "source": [
    "#df_CS = {}\n",
    "df_CS = fred.get_series('CSUSHPINSA')"
   ]
  },
  {
   "cell_type": "code",
   "execution_count": 27,
   "id": "e142df8a",
   "metadata": {},
   "outputs": [
    {
     "data": {
      "text/html": [
       "<div>\n",
       "<style scoped>\n",
       "    .dataframe tbody tr th:only-of-type {\n",
       "        vertical-align: middle;\n",
       "    }\n",
       "\n",
       "    .dataframe tbody tr th {\n",
       "        vertical-align: top;\n",
       "    }\n",
       "\n",
       "    .dataframe thead th {\n",
       "        text-align: right;\n",
       "    }\n",
       "</style>\n",
       "<table border=\"1\" class=\"dataframe\">\n",
       "  <thead>\n",
       "    <tr style=\"text-align: right;\">\n",
       "      <th></th>\n",
       "      <th>Case-Shiller U.S. National Home Price Index</th>\n",
       "    </tr>\n",
       "  </thead>\n",
       "  <tbody>\n",
       "    <tr>\n",
       "      <th>1987-03-31</th>\n",
       "      <td>64.115333</td>\n",
       "    </tr>\n",
       "    <tr>\n",
       "      <th>1987-06-30</th>\n",
       "      <td>65.583667</td>\n",
       "    </tr>\n",
       "    <tr>\n",
       "      <th>1987-09-30</th>\n",
       "      <td>67.226667</td>\n",
       "    </tr>\n",
       "    <tr>\n",
       "      <th>1987-12-31</th>\n",
       "      <td>68.114333</td>\n",
       "    </tr>\n",
       "    <tr>\n",
       "      <th>1988-03-31</th>\n",
       "      <td>68.941000</td>\n",
       "    </tr>\n",
       "  </tbody>\n",
       "</table>\n",
       "</div>"
      ],
      "text/plain": [
       "            Case-Shiller U.S. National Home Price Index\n",
       "1987-03-31                                    64.115333\n",
       "1987-06-30                                    65.583667\n",
       "1987-09-30                                    67.226667\n",
       "1987-12-31                                    68.114333\n",
       "1988-03-31                                    68.941000"
      ]
     },
     "execution_count": 27,
     "metadata": {},
     "output_type": "execute_result"
    }
   ],
   "source": [
    "df_CS = pd.DataFrame(df_CS, index=df_CS.index)\n",
    "df_CS.index = pd.to_datetime(df_CS.index)\n",
    "df_CS.columns =['Case-Shiller U.S. National Home Price Index']\n",
    "df_CS = df_CS.dropna()\n",
    "df_CS = df_CS.resample('Q').mean()\n",
    "\n",
    "df_CS.head()"
   ]
  },
  {
   "cell_type": "code",
   "execution_count": null,
   "id": "bedca1f1",
   "metadata": {},
   "outputs": [],
   "source": []
  },
  {
   "cell_type": "code",
   "execution_count": null,
   "id": "0599453f",
   "metadata": {},
   "outputs": [],
   "source": []
  },
  {
   "cell_type": "markdown",
   "id": "818bf176",
   "metadata": {},
   "source": [
    "### The Features"
   ]
  },
  {
   "cell_type": "code",
   "execution_count": null,
   "id": "a7e2c4b5",
   "metadata": {},
   "outputs": [],
   "source": []
  },
  {
   "cell_type": "code",
   "execution_count": null,
   "id": "5e6e7c5e",
   "metadata": {},
   "outputs": [],
   "source": []
  },
  {
   "cell_type": "code",
   "execution_count": null,
   "id": "d476e881",
   "metadata": {},
   "outputs": [],
   "source": []
  },
  {
   "cell_type": "code",
   "execution_count": 13,
   "id": "7997b49a",
   "metadata": {
    "tags": []
   },
   "outputs": [],
   "source": [
    "# Initial Imports"
   ]
  },
  {
   "cell_type": "code",
   "execution_count": null,
   "id": "123420c8",
   "metadata": {},
   "outputs": [],
   "source": []
  },
  {
   "cell_type": "code",
   "execution_count": null,
   "id": "0539c5f5",
   "metadata": {},
   "outputs": [],
   "source": []
  },
  {
   "cell_type": "code",
   "execution_count": null,
   "id": "d770b644",
   "metadata": {},
   "outputs": [],
   "source": []
  },
  {
   "cell_type": "code",
   "execution_count": null,
   "id": "ec0b92e8",
   "metadata": {},
   "outputs": [],
   "source": []
  },
  {
   "cell_type": "code",
   "execution_count": null,
   "id": "eb63b356",
   "metadata": {},
   "outputs": [],
   "source": []
  }
 ],
 "metadata": {
  "kernelspec": {
   "display_name": "Python 3",
   "language": "python",
   "name": "python3"
  },
  "language_info": {
   "codemirror_mode": {
    "name": "ipython",
    "version": 3
   },
   "file_extension": ".py",
   "mimetype": "text/x-python",
   "name": "python",
   "nbconvert_exporter": "python",
   "pygments_lexer": "ipython3",
   "version": "3.9.2"
  }
 },
 "nbformat": 4,
 "nbformat_minor": 5
}
