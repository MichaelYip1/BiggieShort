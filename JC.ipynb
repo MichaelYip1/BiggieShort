{
 "cells": [
  {
   "cell_type": "code",
   "execution_count": 106,
   "metadata": {},
   "outputs": [],
   "source": [
    "# Initial imports\n",
    "import os\n",
    "import requests\n",
    "import pandas as pd\n",
    "from dotenv import load_dotenv\n",
    "import alpaca_trade_api as tradeapi\n",
    "from fredapi import Fred"
   ]
  },
  {
   "cell_type": "code",
   "execution_count": 131,
   "metadata": {},
   "outputs": [
    {
     "data": {
      "text/plain": [
       "True"
      ]
     },
     "execution_count": 131,
     "metadata": {},
     "output_type": "execute_result"
    }
   ],
   "source": [
    "# Load .env environment variables\n",
    "load_dotenv()"
   ]
  },
  {
   "cell_type": "code",
   "execution_count": 132,
   "metadata": {},
   "outputs": [],
   "source": [
    "# Set Fred API Key via \n",
    "fred_api = os.getenv('fred_api_key')\n",
    "fred = Fred(api_key=fred_api)"
   ]
  },
  {
   "cell_type": "code",
   "execution_count": null,
   "metadata": {},
   "outputs": [],
   "source": [
    "# Potential variables with non ideal time frames \n",
    "    \n",
    "    # df['5/1-Year Adjustable Rate Mortgage Average'] = fred.get_series('MORTGAGE5US')\n",
    "    "
   ]
  },
  {
   "cell_type": "code",
   "execution_count": 124,
   "metadata": {},
   "outputs": [],
   "source": [
    "df = {}\n",
    "df['Homeownership Rate in the United States'] = fred.get_series('RHORUSQ156N')\n",
    "# data index not accurate - produces NaN\n",
    "df['Monthly Supply of Houses in the United States'] = fred.get_series('MSACSR')\n",
    "df['US Population data'] = fred.get_series('POPTHM')\n",
    "# data index not accurate - produces NaN \n",
    "df['Median Sales Price of Houses Sold'] = fred.get_series('MSPUS')\n",
    "df = pd.DataFrame(df)"
   ]
  },
  {
   "cell_type": "code",
   "execution_count": 130,
   "metadata": {},
   "outputs": [
    {
     "data": {
      "text/html": [
       "<div>\n",
       "<style scoped>\n",
       "    .dataframe tbody tr th:only-of-type {\n",
       "        vertical-align: middle;\n",
       "    }\n",
       "\n",
       "    .dataframe tbody tr th {\n",
       "        vertical-align: top;\n",
       "    }\n",
       "\n",
       "    .dataframe thead th {\n",
       "        text-align: right;\n",
       "    }\n",
       "</style>\n",
       "<table border=\"1\" class=\"dataframe\">\n",
       "  <thead>\n",
       "    <tr style=\"text-align: right;\">\n",
       "      <th></th>\n",
       "      <th>Homeownership Rate in the United States</th>\n",
       "      <th>Monthly Supply of Houses in the United States</th>\n",
       "      <th>US Population data</th>\n",
       "      <th>Median Sales Price of Houses Sold</th>\n",
       "    </tr>\n",
       "  </thead>\n",
       "  <tbody>\n",
       "    <tr>\n",
       "      <th>1965-03-31</th>\n",
       "      <td>62.9</td>\n",
       "      <td>5.500000</td>\n",
       "      <td>193466.666667</td>\n",
       "      <td>20200.0</td>\n",
       "    </tr>\n",
       "    <tr>\n",
       "      <th>1965-06-30</th>\n",
       "      <td>62.9</td>\n",
       "      <td>5.200000</td>\n",
       "      <td>193994.000000</td>\n",
       "      <td>19800.0</td>\n",
       "    </tr>\n",
       "    <tr>\n",
       "      <th>1965-09-30</th>\n",
       "      <td>62.9</td>\n",
       "      <td>4.900000</td>\n",
       "      <td>194646.666667</td>\n",
       "      <td>20200.0</td>\n",
       "    </tr>\n",
       "    <tr>\n",
       "      <th>1965-12-31</th>\n",
       "      <td>63.4</td>\n",
       "      <td>4.666667</td>\n",
       "      <td>195278.666667</td>\n",
       "      <td>20300.0</td>\n",
       "    </tr>\n",
       "    <tr>\n",
       "      <th>1966-03-31</th>\n",
       "      <td>63.5</td>\n",
       "      <td>4.866667</td>\n",
       "      <td>195763.000000</td>\n",
       "      <td>21000.0</td>\n",
       "    </tr>\n",
       "    <tr>\n",
       "      <th>...</th>\n",
       "      <td>...</td>\n",
       "      <td>...</td>\n",
       "      <td>...</td>\n",
       "      <td>...</td>\n",
       "    </tr>\n",
       "    <tr>\n",
       "      <th>2020-03-31</th>\n",
       "      <td>65.3</td>\n",
       "      <td>5.566667</td>\n",
       "      <td>329529.333333</td>\n",
       "      <td>329000.0</td>\n",
       "    </tr>\n",
       "    <tr>\n",
       "      <th>2020-06-30</th>\n",
       "      <td>67.9</td>\n",
       "      <td>5.400000</td>\n",
       "      <td>329897.333333</td>\n",
       "      <td>322600.0</td>\n",
       "    </tr>\n",
       "    <tr>\n",
       "      <th>2020-09-30</th>\n",
       "      <td>67.4</td>\n",
       "      <td>3.533333</td>\n",
       "      <td>330367.333333</td>\n",
       "      <td>337500.0</td>\n",
       "    </tr>\n",
       "    <tr>\n",
       "      <th>2020-12-31</th>\n",
       "      <td>65.8</td>\n",
       "      <td>3.766667</td>\n",
       "      <td>330815.000000</td>\n",
       "      <td>358700.0</td>\n",
       "    </tr>\n",
       "    <tr>\n",
       "      <th>2021-03-31</th>\n",
       "      <td>65.6</td>\n",
       "      <td>4.100000</td>\n",
       "      <td>331011.000000</td>\n",
       "      <td>347500.0</td>\n",
       "    </tr>\n",
       "  </tbody>\n",
       "</table>\n",
       "<p>225 rows × 4 columns</p>\n",
       "</div>"
      ],
      "text/plain": [
       "            Homeownership Rate in the United States  \\\n",
       "1965-03-31                                     62.9   \n",
       "1965-06-30                                     62.9   \n",
       "1965-09-30                                     62.9   \n",
       "1965-12-31                                     63.4   \n",
       "1966-03-31                                     63.5   \n",
       "...                                             ...   \n",
       "2020-03-31                                     65.3   \n",
       "2020-06-30                                     67.9   \n",
       "2020-09-30                                     67.4   \n",
       "2020-12-31                                     65.8   \n",
       "2021-03-31                                     65.6   \n",
       "\n",
       "            Monthly Supply of Houses in the United States  US Population data  \\\n",
       "1965-03-31                                       5.500000       193466.666667   \n",
       "1965-06-30                                       5.200000       193994.000000   \n",
       "1965-09-30                                       4.900000       194646.666667   \n",
       "1965-12-31                                       4.666667       195278.666667   \n",
       "1966-03-31                                       4.866667       195763.000000   \n",
       "...                                                   ...                 ...   \n",
       "2020-03-31                                       5.566667       329529.333333   \n",
       "2020-06-30                                       5.400000       329897.333333   \n",
       "2020-09-30                                       3.533333       330367.333333   \n",
       "2020-12-31                                       3.766667       330815.000000   \n",
       "2021-03-31                                       4.100000       331011.000000   \n",
       "\n",
       "            Median Sales Price of Houses Sold  \n",
       "1965-03-31                            20200.0  \n",
       "1965-06-30                            19800.0  \n",
       "1965-09-30                            20200.0  \n",
       "1965-12-31                            20300.0  \n",
       "1966-03-31                            21000.0  \n",
       "...                                       ...  \n",
       "2020-03-31                           329000.0  \n",
       "2020-06-30                           322600.0  \n",
       "2020-09-30                           337500.0  \n",
       "2020-12-31                           358700.0  \n",
       "2021-03-31                           347500.0  \n",
       "\n",
       "[225 rows x 4 columns]"
      ]
     },
     "execution_count": 130,
     "metadata": {},
     "output_type": "execute_result"
    }
   ],
   "source": [
    "df = pd.DataFrame(df,index=df.index)\n",
    "df.index = pd.to_datetime(df.index)\n",
    "# .asfreq() instead of .mean()\n",
    "df = df.resample('Q').mean()\n",
    "df = df.dropna()\n",
    "df"
   ]
  },
  {
   "cell_type": "code",
   "execution_count": null,
   "metadata": {},
   "outputs": [],
   "source": []
  }
 ],
 "metadata": {
  "kernelspec": {
   "display_name": "Python [conda env:dev] *",
   "language": "python",
   "name": "conda-env-dev-py"
  },
  "language_info": {
   "codemirror_mode": {
    "name": "ipython",
    "version": 3
   },
   "file_extension": ".py",
   "mimetype": "text/x-python",
   "name": "python",
   "nbconvert_exporter": "python",
   "pygments_lexer": "ipython3",
   "version": "3.7.7"
  }
 },
 "nbformat": 4,
 "nbformat_minor": 4
}
