{
 "cells": [
  {
   "cell_type": "markdown",
   "id": "1fd0f623",
   "metadata": {},
   "source": [
    "# Random Forest Regressor\n"
   ]
  },
  {
   "cell_type": "code",
   "execution_count": 1,
   "id": "0f5a2e16",
   "metadata": {
    "tags": []
   },
   "outputs": [],
   "source": [
    "# Initial imports\n",
    "import pandas as pd\n",
    "from pathlib import Path\n",
    "from sklearn.ensemble import RandomForestRegressor\n",
    "from sklearn.preprocessing import StandardScaler\n",
    "from sklearn.model_selection import train_test_split\n",
    "from sklearn.metrics import confusion_matrix, accuracy_score, classification_report\n",
    "\n",
    "import matplotlib.pyplot as plt"
   ]
  },
  {
   "cell_type": "code",
   "execution_count": 2,
   "id": "a93f0064",
   "metadata": {},
   "outputs": [
    {
     "data": {
      "text/plain": [
       "(137, 1)"
      ]
     },
     "execution_count": 2,
     "metadata": {},
     "output_type": "execute_result"
    }
   ],
   "source": [
    "# Load CS data & reshape to quarterly \n",
    "CS = pd.read_csv('CS.csv',index_col=0, parse_dates=True, infer_datetime_format=True)\n",
    "CS = CS.resample('Q').last()\n",
    "CS = CS.iloc[:-1]\n",
    "CS.shape"
   ]
  },
  {
   "cell_type": "code",
   "execution_count": 3,
   "id": "acb3dafd",
   "metadata": {},
   "outputs": [
    {
     "data": {
      "text/plain": [
       "(137, 9)"
      ]
     },
     "execution_count": 3,
     "metadata": {},
     "output_type": "execute_result"
    }
   ],
   "source": [
    "# Load features in DF\n",
    "feat = pd.read_csv('features.csv',index_col=0, parse_dates=True, infer_datetime_format=True)\n",
    "feat = feat.loc[CS.index[0]:CS.index[-1]]\n",
    "feat.shape"
   ]
  },
  {
   "cell_type": "code",
   "execution_count": 4,
   "id": "b89f49dc",
   "metadata": {},
   "outputs": [
    {
     "data": {
      "text/html": [
       "<div>\n",
       "<style scoped>\n",
       "    .dataframe tbody tr th:only-of-type {\n",
       "        vertical-align: middle;\n",
       "    }\n",
       "\n",
       "    .dataframe tbody tr th {\n",
       "        vertical-align: top;\n",
       "    }\n",
       "\n",
       "    .dataframe thead th {\n",
       "        text-align: right;\n",
       "    }\n",
       "</style>\n",
       "<table border=\"1\" class=\"dataframe\">\n",
       "  <thead>\n",
       "    <tr style=\"text-align: right;\">\n",
       "      <th></th>\n",
       "      <th>Homeownership Rate in the United States</th>\n",
       "      <th>Monthly Supply of Houses in the United States</th>\n",
       "      <th>US Population data</th>\n",
       "      <th>Median Sales Price of Houses Sold</th>\n",
       "      <th>GDP</th>\n",
       "      <th>Natural Rate of Unemployment</th>\n",
       "      <th>Consumer Price Index</th>\n",
       "      <th>House Price Index</th>\n",
       "      <th>10-Year Treasury</th>\n",
       "    </tr>\n",
       "  </thead>\n",
       "  <tbody>\n",
       "    <tr>\n",
       "      <th>1987-06-30</th>\n",
       "      <td>0.0</td>\n",
       "      <td>0.466667</td>\n",
       "      <td>510.666667</td>\n",
       "      <td>5500.0</td>\n",
       "      <td>84.004</td>\n",
       "      <td>-0.014400</td>\n",
       "      <td>1.400000</td>\n",
       "      <td>2.21</td>\n",
       "      <td>0.048436</td>\n",
       "    </tr>\n",
       "    <tr>\n",
       "      <th>1987-09-30</th>\n",
       "      <td>0.4</td>\n",
       "      <td>0.233333</td>\n",
       "      <td>600.333333</td>\n",
       "      <td>2600.0</td>\n",
       "      <td>78.395</td>\n",
       "      <td>-0.015224</td>\n",
       "      <td>1.100000</td>\n",
       "      <td>1.65</td>\n",
       "      <td>0.136989</td>\n",
       "    </tr>\n",
       "    <tr>\n",
       "      <th>1987-12-31</th>\n",
       "      <td>-0.1</td>\n",
       "      <td>0.366667</td>\n",
       "      <td>600.333333</td>\n",
       "      <td>5500.0</td>\n",
       "      <td>123.439</td>\n",
       "      <td>-0.016047</td>\n",
       "      <td>1.366667</td>\n",
       "      <td>0.97</td>\n",
       "      <td>0.109345</td>\n",
       "    </tr>\n",
       "    <tr>\n",
       "      <th>1988-03-31</th>\n",
       "      <td>-0.4</td>\n",
       "      <td>-0.233333</td>\n",
       "      <td>487.000000</td>\n",
       "      <td>-1500.0</td>\n",
       "      <td>65.378</td>\n",
       "      <td>-0.016840</td>\n",
       "      <td>1.166667</td>\n",
       "      <td>2.28</td>\n",
       "      <td>-0.079677</td>\n",
       "    </tr>\n",
       "    <tr>\n",
       "      <th>1988-06-30</th>\n",
       "      <td>0.0</td>\n",
       "      <td>-0.500000</td>\n",
       "      <td>509.000000</td>\n",
       "      <td>0.0</td>\n",
       "      <td>116.664</td>\n",
       "      <td>-0.017575</td>\n",
       "      <td>1.466667</td>\n",
       "      <td>3.00</td>\n",
       "      <td>-0.023799</td>\n",
       "    </tr>\n",
       "  </tbody>\n",
       "</table>\n",
       "</div>"
      ],
      "text/plain": [
       "            Homeownership Rate in the United States  \\\n",
       "1987-06-30                                      0.0   \n",
       "1987-09-30                                      0.4   \n",
       "1987-12-31                                     -0.1   \n",
       "1988-03-31                                     -0.4   \n",
       "1988-06-30                                      0.0   \n",
       "\n",
       "            Monthly Supply of Houses in the United States  US Population data  \\\n",
       "1987-06-30                                       0.466667          510.666667   \n",
       "1987-09-30                                       0.233333          600.333333   \n",
       "1987-12-31                                       0.366667          600.333333   \n",
       "1988-03-31                                      -0.233333          487.000000   \n",
       "1988-06-30                                      -0.500000          509.000000   \n",
       "\n",
       "            Median Sales Price of Houses Sold      GDP  \\\n",
       "1987-06-30                             5500.0   84.004   \n",
       "1987-09-30                             2600.0   78.395   \n",
       "1987-12-31                             5500.0  123.439   \n",
       "1988-03-31                            -1500.0   65.378   \n",
       "1988-06-30                                0.0  116.664   \n",
       "\n",
       "            Natural Rate of Unemployment  Consumer Price Index  \\\n",
       "1987-06-30                     -0.014400              1.400000   \n",
       "1987-09-30                     -0.015224              1.100000   \n",
       "1987-12-31                     -0.016047              1.366667   \n",
       "1988-03-31                     -0.016840              1.166667   \n",
       "1988-06-30                     -0.017575              1.466667   \n",
       "\n",
       "            House Price Index  10-Year Treasury  \n",
       "1987-06-30               2.21          0.048436  \n",
       "1987-09-30               1.65          0.136989  \n",
       "1987-12-31               0.97          0.109345  \n",
       "1988-03-31               2.28         -0.079677  \n",
       "1988-06-30               3.00         -0.023799  "
      ]
     },
     "execution_count": 4,
     "metadata": {},
     "output_type": "execute_result"
    }
   ],
   "source": [
    "# Define features set\n",
    "X = feat.diff().dropna()\n",
    "X.head()"
   ]
  },
  {
   "cell_type": "code",
   "execution_count": 55,
   "id": "3b113336",
   "metadata": {
    "tags": []
   },
   "outputs": [
    {
     "data": {
      "text/plain": [
       "array([[0.02714357],\n",
       "       [0.02117121],\n",
       "       [0.0106619 ],\n",
       "       [0.01432438],\n",
       "       [0.02512838]])"
      ]
     },
     "execution_count": 55,
     "metadata": {},
     "output_type": "execute_result"
    }
   ],
   "source": [
    "# Define target vector \n",
    "y = CS.pct_change().dropna().values.reshape(-1, 1)\n",
    "y[:5]\n"
   ]
  },
  {
   "cell_type": "code",
   "execution_count": 56,
   "id": "5452d0e6",
   "metadata": {},
   "outputs": [],
   "source": [
    "# Splitting into Train and Test sets\n",
    "X_train, X_test, y_train, y_test = train_test_split(X, y, shuffle=False)\n"
   ]
  },
  {
   "cell_type": "code",
   "execution_count": 59,
   "id": "d6c490fe",
   "metadata": {},
   "outputs": [],
   "source": [
    "# Create the StandardScaler instance\n",
    "# Fit the Standard Scaler with the training data\n",
    "scaler = StandardScaler()\n",
    "X_train_scaled = scaler.fit_transform(X_train)\n",
    "X_test_scaled = scaler.fit_transform(X_test)\n",
    "# y_train_scaled = scaler.fit_transform(y_train)\n",
    "# y_test_scaled = scaler.fit_transform(y_test)"
   ]
  },
  {
   "cell_type": "code",
   "execution_count": 60,
   "id": "1679b125",
   "metadata": {},
   "outputs": [],
   "source": [
    "# Create the random forest Regressor instance\n",
    "rf_model = RandomForestRegressor(n_estimators=100, min_samples_split=5, random_state=42)\n"
   ]
  },
  {
   "cell_type": "code",
   "execution_count": 61,
   "id": "c036e42f",
   "metadata": {},
   "outputs": [
    {
     "name": "stderr",
     "output_type": "stream",
     "text": [
      "<ipython-input-61-d791301b4f91>:2: DataConversionWarning: A column-vector y was passed when a 1d array was expected. Please change the shape of y to (n_samples,), for example using ravel().\n",
      "  rf_model = rf_model.fit(X_train_scaled, y_train)\n"
     ]
    }
   ],
   "source": [
    "# Fit the model\n",
    "rf_model = rf_model.fit(X_train_scaled, y_train)"
   ]
  },
  {
   "cell_type": "code",
   "execution_count": 62,
   "id": "74bf2155",
   "metadata": {},
   "outputs": [],
   "source": [
    "# Making predictions using the testing data\n",
    "predictions = rf_model.predict(X_test_scaled)"
   ]
  },
  {
   "cell_type": "code",
   "execution_count": 63,
   "id": "945c2e32",
   "metadata": {
    "tags": []
   },
   "outputs": [
    {
     "data": {
      "text/plain": [
       "array([0.03717465, 0.05724206, 0.09878208, 0.05620677, 0.11569594,\n",
       "       0.28869857, 0.04127662, 0.2390515 , 0.06587181])"
      ]
     },
     "execution_count": 63,
     "metadata": {},
     "output_type": "execute_result"
    }
   ],
   "source": [
    "# Get the feature importance array\n",
    "rf_model.feature_importances_"
   ]
  },
  {
   "cell_type": "code",
   "execution_count": 64,
   "id": "0bc29742",
   "metadata": {},
   "outputs": [
    {
     "data": {
      "text/plain": [
       "<AxesSubplot:>"
      ]
     },
     "execution_count": 64,
     "metadata": {},
     "output_type": "execute_result"
    },
    {
     "data": {
      "image/png": "[encoded data removed]",
      "text/plain": [
       "<Figure size 432x288 with 1 Axes>"
      ]
     },
     "metadata": {
      "needs_background": "light"
     },
     "output_type": "display_data"
    }
   ],
   "source": [
    "feat_importances = pd.Series(rf_model.feature_importances_, index=feat.columns)\n",
    "feat_importances.nlargest(9).plot(kind='barh')"
   ]
  },
  {
   "cell_type": "code",
   "execution_count": 66,
   "id": "9eb7acb8",
   "metadata": {},
   "outputs": [
    {
     "data": {
      "text/plain": [
       "<matplotlib.collections.PathCollection at 0x7ff18d1617c0>"
      ]
     },
     "execution_count": 66,
     "metadata": {},
     "output_type": "execute_result"
    },
    {
     "data": {
      "image/png": "[encoded data removed]",
      "text/plain": [
       "<Figure size 432x288 with 1 Axes>"
      ]
     },
     "metadata": {
      "needs_background": "light"
     },
     "output_type": "display_data"
    }
   ],
   "source": [
    "plt.scatter(predictions, y_test)"
   ]
  },
  {
   "cell_type": "markdown",
   "id": "5913ceb6",
   "metadata": {},
   "source": [
    "### \"It's pretty much perfect\" - Liam circa 2021 \"It'll probably be a profitable model\""
   ]
  },
  {
   "cell_type": "code",
   "execution_count": 68,
   "id": "a01edef2",
   "metadata": {},
   "outputs": [],
   "source": [
    "from sklearn.metrics import r2_score"
   ]
  },
  {
   "cell_type": "code",
   "execution_count": 69,
   "id": "3bf978b1",
   "metadata": {},
   "outputs": [
    {
     "data": {
      "text/plain": [
       "-1.1306168418475018"
      ]
     },
     "execution_count": 69,
     "metadata": {},
     "output_type": "execute_result"
    }
   ],
   "source": [
    "r2_score(y_test,predictions)"
   ]
  },
  {
   "cell_type": "code",
   "execution_count": 31,
   "id": "3d5f7773",
   "metadata": {},
   "outputs": [
    {
     "data": {
      "text/plain": [
       "array([2.11233859, 1.12516523, 1.01087477, 1.41971321, 1.07612161,\n",
       "       1.07916608, 1.00024286, 1.3752941 , 2.01468695, 5.23596468,\n",
       "       3.56181777, 2.95370198, 3.73296704, 4.83212813, 1.4567763 ,\n",
       "       1.29047965, 4.25013086, 4.93045811, 1.02445552, 2.07872591,\n",
       "       3.22102415, 4.59854294, 1.05971637, 3.11685878, 3.9477891 ,\n",
       "       2.91779092, 1.18278933, 3.34103051, 3.84109922, 2.84082236,\n",
       "       8.53553878, 1.12053729, 1.11565085, 1.09544529])"
      ]
     },
     "execution_count": 31,
     "metadata": {},
     "output_type": "execute_result"
    }
   ],
   "source": [
    "sum((y_test-predictions)**2)/sum((y_test-(y_test).mean())**2"
   ]
  },
  {
   "cell_type": "code",
   "execution_count": null,
   "id": "d7f343bd",
   "metadata": {},
   "outputs": [],
   "source": []
  }
 ],
 "metadata": {
  "kernelspec": {
   "display_name": "Python 3",
   "language": "python",
   "name": "python3"
  },
  "language_info": {
   "codemirror_mode": {
    "name": "ipython",
    "version": 3
   },
   "file_extension": ".py",
   "mimetype": "text/x-python",
   "name": "python",
   "nbconvert_exporter": "python",
   "pygments_lexer": "ipython3",
   "version": "3.9.2"
  }
 },
 "nbformat": 4,
 "nbformat_minor": 5
}
